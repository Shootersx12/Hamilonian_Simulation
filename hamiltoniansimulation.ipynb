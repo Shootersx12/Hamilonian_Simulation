{
  "nbformat": 4,
  "nbformat_minor": 0,
  "metadata": {
    "colab": {
      "provenance": []
    },
    "kernelspec": {
      "name": "python3",
      "display_name": "Python 3"
    },
    "language_info": {
      "name": "python"
    }
  },
  "cells": [
    {
      "cell_type": "markdown",
      "source": [
        "# Hamiltonian simulation theory and application in simulating coupled classical oscillators"
      ],
      "metadata": {
        "id": "9amzVoWqlwxa"
      }
    },
    {
      "cell_type": "markdown",
      "source": [
        "In this project we will implement Hamiltonian simulation with three different techniques: Product formulas (Suzuki - Trotter), Quantum Singular Eigenvalues ​​Transform (QSVT) and Qubitization, a brief theoretical foundation on product formulas, block encoding and Linear Combination of Unitaries (LCU) for the Hamiltonian first in a toy problem and then in the specific case estimated to simulate coupled classical oscillators           "
      ],
      "metadata": {
        "id": "wH5w0mbw4IoF"
      }
    },
    {
      "cell_type": "code",
      "execution_count": null,
      "metadata": {
        "colab": {
          "base_uri": "https://localhost:8080/"
        },
        "id": "2WS3NZJWliVH",
        "outputId": "a3fe9b37-386c-4928-e19e-63c79cfe744a"
      },
      "outputs": [
        {
          "output_type": "stream",
          "name": "stdout",
          "text": [
            "Requirement already satisfied: classiq in /usr/local/lib/python3.10/dist-packages (0.44.0)\n",
            "Requirement already satisfied: ConfigArgParse<2.0.0,>=1.5.3 in /usr/local/lib/python3.10/dist-packages (from classiq) (1.7)\n",
            "Requirement already satisfied: Pyomo<6.6,>=6.5 in /usr/local/lib/python3.10/dist-packages (from classiq) (6.5.0)\n",
            "Requirement already satisfied: black<25.0,>=24.0 in /usr/local/lib/python3.10/dist-packages (from classiq) (24.8.0)\n",
            "Requirement already satisfied: httpx<1,>=0.23.0 in /usr/local/lib/python3.10/dist-packages (from classiq) (0.27.0)\n",
            "Requirement already satisfied: keyring<24.0.0,>=23.5.0 in /usr/lib/python3/dist-packages (from classiq) (23.5.0)\n",
            "Requirement already satisfied: matplotlib<4.0.0,>=3.4.3 in /usr/local/lib/python3.10/dist-packages (from classiq) (3.7.1)\n",
            "Requirement already satisfied: networkx<3.0.0,>=2.5.1 in /usr/local/lib/python3.10/dist-packages (from classiq) (2.8.8)\n",
            "Requirement already satisfied: numexpr<3.0.0,>=2.7.3 in /usr/local/lib/python3.10/dist-packages (from classiq) (2.10.1)\n",
            "Requirement already satisfied: numpy<2.0.0,>=1.20.1 in /usr/local/lib/python3.10/dist-packages (from classiq) (1.26.4)\n",
            "Requirement already satisfied: packaging<24.0,>=23.2 in /usr/local/lib/python3.10/dist-packages (from classiq) (23.2)\n",
            "Requirement already satisfied: pandas<3.0.0,>=1.4.0 in /usr/local/lib/python3.10/dist-packages (from classiq) (2.1.4)\n",
            "Requirement already satisfied: plotly<6.0.0,>=5.7.0 in /usr/local/lib/python3.10/dist-packages (from classiq) (5.15.0)\n",
            "Requirement already satisfied: pydantic<2.0.0,>=1.9.1 in /usr/local/lib/python3.10/dist-packages (from classiq) (1.10.17)\n",
            "Requirement already satisfied: scipy<2.0.0,>=1.10.1 in /usr/local/lib/python3.10/dist-packages (from classiq) (1.13.1)\n",
            "Requirement already satisfied: sympy<2.0.0,>=1.13.0 in /usr/local/lib/python3.10/dist-packages (from classiq) (1.13.1)\n",
            "Requirement already satisfied: tabulate<1,>=0.8.9 in /usr/local/lib/python3.10/dist-packages (from classiq) (0.9.0)\n",
            "Requirement already satisfied: click>=8.0.0 in /usr/local/lib/python3.10/dist-packages (from black<25.0,>=24.0->classiq) (8.1.7)\n",
            "Requirement already satisfied: mypy-extensions>=0.4.3 in /usr/local/lib/python3.10/dist-packages (from black<25.0,>=24.0->classiq) (1.0.0)\n",
            "Requirement already satisfied: pathspec>=0.9.0 in /usr/local/lib/python3.10/dist-packages (from black<25.0,>=24.0->classiq) (0.12.1)\n",
            "Requirement already satisfied: platformdirs>=2 in /usr/local/lib/python3.10/dist-packages (from black<25.0,>=24.0->classiq) (4.2.2)\n",
            "Requirement already satisfied: tomli>=1.1.0 in /usr/local/lib/python3.10/dist-packages (from black<25.0,>=24.0->classiq) (2.0.1)\n",
            "Requirement already satisfied: typing-extensions>=4.0.1 in /usr/local/lib/python3.10/dist-packages (from black<25.0,>=24.0->classiq) (4.12.2)\n",
            "Requirement already satisfied: anyio in /usr/local/lib/python3.10/dist-packages (from httpx<1,>=0.23.0->classiq) (3.7.1)\n",
            "Requirement already satisfied: certifi in /usr/local/lib/python3.10/dist-packages (from httpx<1,>=0.23.0->classiq) (2024.7.4)\n",
            "Requirement already satisfied: httpcore==1.* in /usr/local/lib/python3.10/dist-packages (from httpx<1,>=0.23.0->classiq) (1.0.5)\n",
            "Requirement already satisfied: idna in /usr/local/lib/python3.10/dist-packages (from httpx<1,>=0.23.0->classiq) (3.7)\n",
            "Requirement already satisfied: sniffio in /usr/local/lib/python3.10/dist-packages (from httpx<1,>=0.23.0->classiq) (1.3.1)\n",
            "Requirement already satisfied: h11<0.15,>=0.13 in /usr/local/lib/python3.10/dist-packages (from httpcore==1.*->httpx<1,>=0.23.0->classiq) (0.14.0)\n",
            "Requirement already satisfied: contourpy>=1.0.1 in /usr/local/lib/python3.10/dist-packages (from matplotlib<4.0.0,>=3.4.3->classiq) (1.2.1)\n",
            "Requirement already satisfied: cycler>=0.10 in /usr/local/lib/python3.10/dist-packages (from matplotlib<4.0.0,>=3.4.3->classiq) (0.12.1)\n",
            "Requirement already satisfied: fonttools>=4.22.0 in /usr/local/lib/python3.10/dist-packages (from matplotlib<4.0.0,>=3.4.3->classiq) (4.53.1)\n",
            "Requirement already satisfied: kiwisolver>=1.0.1 in /usr/local/lib/python3.10/dist-packages (from matplotlib<4.0.0,>=3.4.3->classiq) (1.4.5)\n",
            "Requirement already satisfied: pillow>=6.2.0 in /usr/local/lib/python3.10/dist-packages (from matplotlib<4.0.0,>=3.4.3->classiq) (9.4.0)\n",
            "Requirement already satisfied: pyparsing>=2.3.1 in /usr/local/lib/python3.10/dist-packages (from matplotlib<4.0.0,>=3.4.3->classiq) (3.1.2)\n",
            "Requirement already satisfied: python-dateutil>=2.7 in /usr/local/lib/python3.10/dist-packages (from matplotlib<4.0.0,>=3.4.3->classiq) (2.8.2)\n",
            "Requirement already satisfied: pytz>=2020.1 in /usr/local/lib/python3.10/dist-packages (from pandas<3.0.0,>=1.4.0->classiq) (2024.1)\n",
            "Requirement already satisfied: tzdata>=2022.1 in /usr/local/lib/python3.10/dist-packages (from pandas<3.0.0,>=1.4.0->classiq) (2024.1)\n",
            "Requirement already satisfied: tenacity>=6.2.0 in /usr/local/lib/python3.10/dist-packages (from plotly<6.0.0,>=5.7.0->classiq) (9.0.0)\n",
            "Requirement already satisfied: ply in /usr/local/lib/python3.10/dist-packages (from Pyomo<6.6,>=6.5->classiq) (3.11)\n",
            "Requirement already satisfied: mpmath<1.4,>=1.1.0 in /usr/local/lib/python3.10/dist-packages (from sympy<2.0.0,>=1.13.0->classiq) (1.3.0)\n",
            "Requirement already satisfied: six>=1.5 in /usr/local/lib/python3.10/dist-packages (from python-dateutil>=2.7->matplotlib<4.0.0,>=3.4.3->classiq) (1.16.0)\n",
            "Requirement already satisfied: exceptiongroup in /usr/local/lib/python3.10/dist-packages (from anyio->httpx<1,>=0.23.0->classiq) (1.2.2)\n"
          ]
        }
      ],
      "source": [
        "!pip install -U classiq"
      ]
    },
    {
      "cell_type": "code",
      "source": [
        "!pip install pyqsp"
      ],
      "metadata": {
        "colab": {
          "base_uri": "https://localhost:8080/"
        },
        "id": "UcAFOGees3Nu",
        "outputId": "b4d375f9-88ff-42e5-bb89-df2bf11f8eb2"
      },
      "execution_count": null,
      "outputs": [
        {
          "output_type": "stream",
          "name": "stdout",
          "text": [
            "Collecting pyqsp\n",
            "  Downloading pyqsp-0.1.6.tar.gz (46 kB)\n",
            "\u001b[2K     \u001b[90m━━━━━━━━━━━━━━━━━━━━━━━━━━━━━━━━━━━━━━━━\u001b[0m \u001b[32m46.5/46.5 kB\u001b[0m \u001b[31m1.6 MB/s\u001b[0m eta \u001b[36m0:00:00\u001b[0m\n",
            "\u001b[?25h  Preparing metadata (setup.py) ... \u001b[?25l\u001b[?25hdone\n",
            "Requirement already satisfied: matplotlib in /usr/local/lib/python3.10/dist-packages (from pyqsp) (3.7.1)\n",
            "Requirement already satisfied: numpy>1.19.1 in /usr/local/lib/python3.10/dist-packages (from pyqsp) (1.26.4)\n",
            "Requirement already satisfied: scipy in /usr/local/lib/python3.10/dist-packages (from pyqsp) (1.13.1)\n",
            "Requirement already satisfied: contourpy>=1.0.1 in /usr/local/lib/python3.10/dist-packages (from matplotlib->pyqsp) (1.2.1)\n",
            "Requirement already satisfied: cycler>=0.10 in /usr/local/lib/python3.10/dist-packages (from matplotlib->pyqsp) (0.12.1)\n",
            "Requirement already satisfied: fonttools>=4.22.0 in /usr/local/lib/python3.10/dist-packages (from matplotlib->pyqsp) (4.53.1)\n",
            "Requirement already satisfied: kiwisolver>=1.0.1 in /usr/local/lib/python3.10/dist-packages (from matplotlib->pyqsp) (1.4.5)\n",
            "Requirement already satisfied: packaging>=20.0 in /usr/local/lib/python3.10/dist-packages (from matplotlib->pyqsp) (23.2)\n",
            "Requirement already satisfied: pillow>=6.2.0 in /usr/local/lib/python3.10/dist-packages (from matplotlib->pyqsp) (9.4.0)\n",
            "Requirement already satisfied: pyparsing>=2.3.1 in /usr/local/lib/python3.10/dist-packages (from matplotlib->pyqsp) (3.1.2)\n",
            "Requirement already satisfied: python-dateutil>=2.7 in /usr/local/lib/python3.10/dist-packages (from matplotlib->pyqsp) (2.8.2)\n",
            "Requirement already satisfied: six>=1.5 in /usr/local/lib/python3.10/dist-packages (from python-dateutil>=2.7->matplotlib->pyqsp) (1.16.0)\n",
            "Building wheels for collected packages: pyqsp\n",
            "  Building wheel for pyqsp (setup.py) ... \u001b[?25l\u001b[?25hdone\n",
            "  Created wheel for pyqsp: filename=pyqsp-0.1.6-py3-none-any.whl size=45210 sha256=bfb2691542dfe163d340bd78d27c93f9e47212dbce1c4ffba735701e07d9476a\n",
            "  Stored in directory: /root/.cache/pip/wheels/db/75/56/4db5a2e7d732042098fb58b080326bb602dfcb3be12bf75a32\n",
            "Successfully built pyqsp\n",
            "Installing collected packages: pyqsp\n",
            "Successfully installed pyqsp-0.1.6\n"
          ]
        }
      ]
    },
    {
      "cell_type": "code",
      "source": [
        "import classiq\n",
        "classiq.authenticate()"
      ],
      "metadata": {
        "colab": {
          "base_uri": "https://localhost:8080/"
        },
        "id": "8iEisKoyuldt",
        "outputId": "e42509a4-e9ff-4bec-aff4-dfce5041ed5e"
      },
      "execution_count": null,
      "outputs": [
        {
          "output_type": "stream",
          "name": "stderr",
          "text": [
            "/usr/local/lib/python3.10/dist-packages/classiq/_internals/authentication/token_manager.py:99: UserWarning: Device is already registered.\n",
            "Generating a new refresh token should only be done if the current refresh token is compromised.\n",
            "To do so, set the overwrite parameter to true\n",
            "  warnings.warn(\n"
          ]
        }
      ]
    },
    {
      "cell_type": "code",
      "source": [
        "from classiq import *"
      ],
      "metadata": {
        "id": "Qt_DYJnsS9yl"
      },
      "execution_count": null,
      "outputs": []
    },
    {
      "cell_type": "markdown",
      "source": [
        "## Introduccion teorica"
      ],
      "metadata": {
        "id": "Mpqm7xCy7I5f"
      }
    },
    {
      "cell_type": "markdown",
      "source": [
        "Hamiltonian simulation  is a problem in quantum information science that attempts to find the computational complexity and quantum algorithms needed for simulating quantum systems. Hamiltonian simulation is a problem that demands algorithms which implement the evolution of a quantum state efficiently. The Hamiltonian simulation problem was proposed by Richard Feynman in 1982, where he proposed a quantum computer as a possible solution since the simulation of general Hamiltonians seem to grow exponentially with respect to the system size.\n",
        "\n"
      ],
      "metadata": {
        "id": "gW2_XdFR7O2w"
      }
    },
    {
      "cell_type": "markdown",
      "source": [
        "### PRODUCT FORMULAS (Suzuki - Trotter)\n",
        "Product formulas simulate the sum-of-terms of a Hamiltonian by simulating each one separately for a small time slice\n",
        " If $\n",
        "𝐻\n",
        "=\n",
        "𝐴\n",
        "+\n",
        "𝐵\n",
        "+\n",
        "𝐶$\n",
        " then $\n",
        "𝑈\n",
        "=\n",
        "𝑒\n",
        "−\n",
        "𝑖\n",
        "(\n",
        "𝐴\n",
        "+\n",
        "𝐵\n",
        "+\n",
        "𝐶\n",
        ")\n",
        "𝑡\n",
        "=\n",
        "(\n",
        "𝑒\n",
        "−\n",
        "𝑖\n",
        "𝐴\n",
        "𝑡\n",
        "/\n",
        "𝑟\n",
        ".\n",
        "𝑒\n",
        "−\n",
        "𝑖\n",
        "𝐵\n",
        "𝑡\n",
        "/\n",
        "𝑟\n",
        ".\n",
        "𝑒\n",
        "−\n",
        "𝑖\n",
        "𝐶\n",
        "𝑡\n",
        "/\n",
        "𝑟\n",
        ")^\n",
        "𝑟$\n",
        " for a large\n",
        "𝑟\n",
        "; where\n",
        "𝑟\n",
        " is the number of time steps to simulate for. The larger the\n",
        "𝑟\n",
        ", the more accurate the simulation."
      ],
      "metadata": {
        "id": "5UTMIG5P-0iO"
      }
    },
    {
      "cell_type": "markdown",
      "source": [
        "###LINER COMBINATION OF  UNITARIES (LCUs)\n",
        "\n",
        "Linear combinations of unitaries are straightforward — it’s already explained in the name: we decompose operators into a weighted sum of unitaries. Mathematically, this means expressing an operator  \n",
        "A\n",
        "  in terms of coefficients  α_k\n",
        "  and unitaries  U_k\n",
        "  as $A = \\sum_{k=0}^{N-1} \\alpha_k U_k.$ A general way to build LCUs is to employ properties of the Pauli basis. This is the set of all products of Pauli matrices  \n",
        "{\n",
        "I\n",
        ",\n",
        "X\n",
        ",\n",
        "Y\n",
        ",\n",
        "Z\n",
        "}\n",
        " . For the space of operators acting on n\n",
        "  qubits, this set forms a complete basis. Thus, any operator can be expressed in the Pauli basis, which immediately gives an LCU decomposition."
      ],
      "metadata": {
        "id": "c1YvxHjuAUyL"
      }
    },
    {
      "cell_type": "markdown",
      "source": [
        "### BlOCK ENCONDINGS\n",
        "Definition: $A (s, m, \\epsilon)$\n",
        "-encoding of a $2^n\\times 2^n$\n",
        " matrix\n",
        " refers to completing it into a $2^{n+m}\\times 2^{n+m}$\n",
        " unitary matrix $U_{(s,m,\\epsilon)-H}$\n",
        ":$ U_{(s,m,\\epsilon)-H} = \\begin{pmatrix}\n",
        "H/s & * \\\\\n",
        "* & *\n",
        "\\end{pmatrix}$\n",
        "\n",
        "with some functional error $\\left|\\left(U_{(s,m,\\epsilon)-H}\\right)_{0:2^n-1,0:2^n-1}-H/s \\right|\\leq \\epsilon$\n",
        "The basic usage of the block-encoding unitary: let say we have a $(s, m, 0)$-encoding of a matrix $A$:\n",
        "\n",
        "\n",
        "$U_{(s, m, 0)-A} = \\begin{pmatrix}\n",
        "  A/s & *  \\\\\n",
        "  * & *\n",
        "\\end{pmatrix},$\n",
        "where the dimension of $A$  is $2^n\\times 2^n$.  If we apply this unitary on the state:\n",
        "\n",
        "$|\\psi\\rangle_n|0\\rangle_m =|\\psi\\rangle_n \\otimes\n",
        "\\begin{pmatrix}\n",
        "  1  \\\\\n",
        "   0\\\\\n",
        "  \\vdots \\\\\n",
        "  0\n",
        "\\end{pmatrix} =  \n",
        "\\begin{pmatrix}\n",
        "  |\\psi\\rangle_n  \\\\\n",
        "   0\\\\\n",
        "  \\vdots \\\\\n",
        "  0\n",
        "\\end{pmatrix},$\n",
        "we get $ U_{(s, m, 0)-A} \\left(|\\psi\\rangle_n|0\\rangle_m \\right) $= \\begin{pmatrix}\n",
        "  \\frac{1}{s}A|\\psi\\rangle_n  \\\\\n",
        "   0\\\\\n",
        "  \\vdots \\\\\n",
        "  0\n",
        "\\end{pmatrix} $\\begin{pmatrix}\n",
        "   0  \\\\\n",
        "    *\\\\\n",
        "   \\vdots \\\\\n",
        "*\n",
        "\\end{pmatrix}$ = $\\frac{1}{s}A|\\psi\\rangle_n|0\\rangle_m +\\sum_{l\\neq 0} c_l |\\phi\\rangle_n|l\\rangle_m . $ Thus, if we measure\n",
        " on the second variable we know the first variable is the state $\\frac{1}{s}A|\\psi\\rangle_n$  In terms of measurment, we shall post-select on $|0\\rangle_m$\n",
        " to measure the desired state."
      ],
      "metadata": {
        "id": "zpbK1aLQGaPj"
      }
    },
    {
      "cell_type": "markdown",
      "source": [
        "#Encoding of the problem"
      ],
      "metadata": {
        "id": "BG4rnCe0OYYS"
      }
    },
    {
      "cell_type": "markdown",
      "source": [
        "# Hamiltonian Simulation with Product Formulas (Suzuki - Trotter)  approach"
      ],
      "metadata": {
        "id": "tqoFMjvcNZwO"
      }
    },
    {
      "cell_type": "markdown",
      "source": [
        "Implementation of Suzuki Trotter formulas\n",
        "A given  formula $ST(o,r,t)$ has and exponentially different ways to be implemented\n",
        "\n",
        "**Classiq** provides an optimized implementation, reducing CX - counts  and function depth.\n",
        "\n",
        "First we will implement it in a toy problem and in the final section we will apply it along with the other methods to the case of coupled oscillators"
      ],
      "metadata": {
        "id": "muhTFKK4OCgk"
      }
    },
    {
      "cell_type": "markdown",
      "source": [
        "## TOY PROBLEM\n",
        "For simplicity, we now take a specific Hamiltonian with which we continue to the next sections.\n",
        "$H = 0.2 \\cdot I\\otimes I +0.6\\cdot  I\\otimes Z + 0.4 \\cdot X \\otimes X + 0.2\\cdot  Z\\otimes Z + 0.3\\cdot  Y\\otimes Z$"
      ],
      "metadata": {
        "id": "IiFLM20_P5eE"
      }
    },
    {
      "cell_type": "code",
      "source": [
        "from classiq import (\n",
        "    CReal,\n",
        "    Output,\n",
        "    Pauli,\n",
        "    PauliTerm,\n",
        "    QArray,\n",
        "    QBit,\n",
        "    allocate,\n",
        "    create_model,\n",
        "    qfunc,\n",
        "    suzuki_trotter,\n",
        "    synthesize,\n",
        "    write_qmod,\n",
        ")\n",
        "\n",
        "\n"
      ],
      "metadata": {
        "id": "D2mN5X-IQyiO"
      },
      "execution_count": null,
      "outputs": []
    },
    {
      "cell_type": "code",
      "source": [
        "HAMILTONIAN = [\n",
        "    PauliTerm(pauli=[Pauli.I, Pauli.I], coefficient=0.2),\n",
        "    PauliTerm(pauli=[Pauli.I, Pauli.Z], coefficient=0.6),\n",
        "    PauliTerm(pauli=[Pauli.X, Pauli.X], coefficient=0.4),\n",
        "    PauliTerm(pauli=[Pauli.Y, Pauli.Z], coefficient=0.3),\n",
        "\n",
        "]"
      ],
      "metadata": {
        "id": "ZYRgbaJQRHLf"
      },
      "execution_count": null,
      "outputs": []
    },
    {
      "cell_type": "code",
      "source": [
        "\n",
        "@qfunc\n",
        "def main(a: CReal, x: CReal, qba: Output[QArray[QBit]]):\n",
        "    allocate(2, qba)\n",
        "    suzuki_trotter(\n",
        "        HAMILTONIAN,\n",
        "        evolution_coefficient=x,\n",
        "        order=1,\n",
        "        repetitions=1,\n",
        "        qbv=qba,\n",
        "    )\n",
        "\n",
        "\n",
        "\n"
      ],
      "metadata": {
        "id": "GvhCbNTHRE3v"
      },
      "execution_count": null,
      "outputs": []
    },
    {
      "cell_type": "code",
      "source": [
        "qmod = create_model(main)\n"
      ],
      "metadata": {
        "id": "xtJpj69ISod2"
      },
      "execution_count": null,
      "outputs": []
    },
    {
      "cell_type": "code",
      "source": [
        "write_qmod(qmod, \"suzuki_trotter\")\n"
      ],
      "metadata": {
        "id": "W5LFm3edTjMm"
      },
      "execution_count": null,
      "outputs": []
    },
    {
      "cell_type": "code",
      "source": [
        "qprog = synthesize(qmod)"
      ],
      "metadata": {
        "id": "KvVuITjhTnvE"
      },
      "execution_count": null,
      "outputs": []
    },
    {
      "cell_type": "code",
      "source": [
        "show(qprog)"
      ],
      "metadata": {
        "colab": {
          "base_uri": "https://localhost:8080/"
        },
        "id": "Pymcozn4VTcD",
        "outputId": "8c61e77d-9739-49cf-a397-4a7df0376b6b"
      },
      "execution_count": null,
      "outputs": [
        {
          "output_type": "stream",
          "name": "stdout",
          "text": [
            "Opening: https://platform.classiq.io/circuit/e83aa4a1-ce4e-4809-b0a8-07e7f0e47615?version=0.44.0\n"
          ]
        }
      ]
    },
    {
      "cell_type": "markdown",
      "source": [
        "### QSVT and Qubitization approaches"
      ],
      "metadata": {
        "id": "NuDBqfoOKxAl"
      }
    },
    {
      "cell_type": "markdown",
      "source": [
        "We start with an encoding of some Hamiltonian , and implement an approximated encoding of its Hamiltonian evolution in a toy problem : $U_{(\\tilde{s},\\tilde{m},\\epsilon)-\\exp{(iHt)}} = \\begin{pmatrix}\n",
        "\\exp{(iHt)}/\\tilde{s} & * \\\\\n",
        "* & *\n",
        "\\end{pmatrix},$ using QSVT and Qubitization approaches. Both implementations are based on polynomial approximation of the function $f(x)=e^{ix}$in particular, we will perform the block-encoding of $\\cos(Ht)$ and $\\sin(Ht)$ and then construct an LCU for $e^{iHt}=\\cos(Ht)+i\\sin(Ht)$ Therefore, the LCU methodology is employed at least twice, once for the block-encoding of  $H$\n",
        ", and the second for block-encoding the sum of sine and cosine.\n"
      ],
      "metadata": {
        "id": "uzvQwje0KhKK"
      }
    },
    {
      "cell_type": "markdown",
      "source": [
        "###The Jacobi–Anger Expansion\n",
        "The Jacobi–Anger expansion approximates the sine and cosine functions with Chebyshev polynomials\n",
        "$\\begin{eqnarray}\n",
        "\\cos(xt) &=& J_0(t) + 2\\sum^{d}_{k=1} (-1)^k J_{2k}(t) T_{2k}(x)\\\\\n",
        "\\sin(xt) &=& 2\\sum^{d}_{k=0} (-1)^k J_{2k+1}(t) T_{2k+1}(x),\n",
        "\\end{eqnarray}$\n",
        "where $J_i(x)$\n",
        " and $T_i(x)$\n",
        " are the Bessel function and Chebychev Polynomial of order\n",
        ", respectivaly, and the degree $d$\n",
        " is related to the approximation error $\\epsilon$\n",
        " as\n",
        "\n",
        " $d = O\\left(t - \\frac{\\log\\epsilon}{1+\\log\\left(e-\\frac{\\log(\\epsilon)}{t}\\right)}\\right).$"
      ],
      "metadata": {
        "id": "0Cq0OfCHWDY9"
      }
    },
    {
      "cell_type": "markdown",
      "source": [
        "###Building LCU for Pauli Strings\n",
        "LCU tell us we can represent $ H $ as:\n",
        "\n",
        "$H = \\sum^{L-1}_{i=0} \\alpha_i U_i, $\n",
        "\n",
        "where $U_i$\n",
        " are Pauli strings."
      ],
      "metadata": {
        "id": "vKzvFHg1W2X8"
      }
    },
    {
      "cell_type": "markdown",
      "source": [
        "Next we will definde some functions for apply LCU\n",
        "from the LCU decomposition  \n",
        "$A =  \\sum_{k=0}^{N-1} \\alpha_k U_k$ with positive, real coefficients, we define the prepare (PREP) operator:\n",
        "\n",
        "\n",
        "$\\text{PREP}|0\\rangle = \\sum_k \\sqrt{\\frac{|\\alpha_k|}{\\lambda}}|k\\rangle,$\n",
        "\n",
        "where $ \\lambda$  is a normalization constant defined as \\lambda = \\sum_k |\\alpha_k|,and the select (SEL) operator:\n",
        "\n",
        "\n",
        "$\\text{SEL}|k\\rangle |\\psi\\rangle = |k\\rangle U_k |\\psi\\rangle.$\n",
        "\n",
        "\n",
        "They are aptly named: PREP prepares a state whose amplitudes are determined by the coefficients of the LCU, and SEL selects which unitary is applied."
      ],
      "metadata": {
        "id": "D92655oLYMJ_"
      }
    },
    {
      "cell_type": "markdown",
      "source": [
        "We define a function that gets the list of $L$\n",
        " coefficients and returns the probabilities to be loaded as part of the LCU"
      ],
      "metadata": {
        "id": "2z7TiBfFaCBX"
      }
    },
    {
      "cell_type": "code",
      "source": [
        "def get_normalized_lcu_coef(lcu_coef):\n",
        "\n",
        "    normalization_factor = sum(lcu_coef)\n",
        "    prepare_prob = [c / normalization_factor for c in lcu_coef]\n",
        "    coef_size = int(np.ceil(np.log2(len(prepare_prob))))\n",
        "    prepare_prob += [0] * (2**coef_size - len(prepare_prob))\n",
        "\n",
        "    print(\"The size of the block encoding:\", coef_size)\n",
        "    print(\"The normalized coefficients:\", prepare_prob)\n",
        "    print(\"The normalization factor:\", normalization_factor)\n",
        "\n",
        "    return normalization_factor, coef_size, prepare_prob"
      ],
      "metadata": {
        "id": "wJwfKiBDY1_v"
      },
      "execution_count": null,
      "outputs": []
    },
    {
      "cell_type": "code",
      "source": [
        "\n",
        "\"\"\" FUNCTION FOR IMPLEMENT LCU\n",
        "pauli_terms_list: the list of Pauli strings\n",
        "  probs: the normalized coefficients\n",
        "  data: the quantum variable on which the Hamiltonian operates\n",
        "  block: the quantum \"prepare\" variable for the block encoding\"\"\"\n",
        "@qfunc\n",
        "def apply_pauli_term(pauli_string: PauliTerm, x: QArray[QBit]):\n",
        "    repeat(\n",
        "        count=x.len,\n",
        "        iteration=lambda index: switch(\n",
        "            pauli_string.pauli[index],\n",
        "            [\n",
        "                lambda: IDENTITY(x[pauli_string.pauli.len - index - 1]),\n",
        "                lambda: X(x[pauli_string.pauli.len - index - 1]),\n",
        "                lambda: Y(x[pauli_string.pauli.len - index - 1]),\n",
        "                lambda: Z(x[pauli_string.pauli.len - index - 1]),\n",
        "            ],\n",
        "        ),\n",
        "    )\n"
      ],
      "metadata": {
        "id": "XzIAtCSwa7tL"
      },
      "execution_count": null,
      "outputs": []
    },
    {
      "cell_type": "code",
      "source": [
        "@qfunc\n",
        "def lcu_paulis(\n",
        "    pauli_terms_list: CArray[PauliTerm],\n",
        "    probs: CArray[CReal],\n",
        "    block: QNum,\n",
        "    data: QArray[QBit],\n",
        "):\n",
        "    within_apply(\n",
        "        lambda: inplace_prepare_state(probs, 0.0, block),\n",
        "        lambda: repeat(\n",
        "            count=pauli_terms_list.len,\n",
        "            iteration=lambda i: control(\n",
        "                block == i, lambda: apply_pauli_term(pauli_terms_list[i], data)\n",
        "            ),\n",
        "        ),\n",
        "    )"
      ],
      "metadata": {
        "id": "pzH4ttpXbV0e"
      },
      "execution_count": null,
      "outputs": []
    },
    {
      "cell_type": "code",
      "source": [
        "\"\"\" Classiq offers integration with multiple cloud providers, to allow seamless execution of quantum programs on multiple backends,\n",
        " in this ocation we use Classiq cloud but we can change for whatever we want\"\"\"\n",
        "\n",
        "quantum_model = create_model(main)\n",
        "quantum_model_with_execution_preferences = set_execution_preferences(\n",
        "    quantum_model,\n",
        "    ExecutionPreferences(\n",
        "        num_shots=5096,backend_preferences=ClassiqBackendPreferences(\n",
        "        backend_name=ClassiqSimulatorBackendNames.SIMULATOR_STATEVECTOR\n",
        "    ), job_name=\"hamiltonian_simulator\", random_seed=767\n",
        "    ),\n",
        ")"
      ],
      "metadata": {
        "id": "hBt7VpS4ds6-"
      },
      "execution_count": null,
      "outputs": []
    },
    {
      "cell_type": "code",
      "source": [
        "import matplotlib.pyplot as plt\n",
        "import numpy as np\n",
        "import scipy\n",
        "def get_projected_state_vector(\n",
        "    execution_result,\n",
        "    measured_var: str,\n",
        "    projections: dict,\n",
        ") -> np.ndarray:\n",
        "    \"\"\"\n",
        "    This function returns a reduced statevector from execution results.\n",
        "    measured var: the name of the reduced variable\n",
        "    projections: on which values of the other variables to project, e.g., {\"ind\": 1}\n",
        "    \"\"\"\n",
        "    projected_size = len(execution_result[0].value.output_qubits_map[measured_var])\n",
        "    proj_statevector = np.zeros(2**projected_size).astype(complex)\n",
        "    for sample in execution_result[0].value.parsed_state_vector:\n",
        "        if all(sample.state[key] == projections[key] for key in projections.keys()):\n",
        "            proj_statevector[int(sample.state[measured_var])] += sample.amplitude\n",
        "    return proj_statevector"
      ],
      "metadata": {
        "id": "1fy4qbINglRW"
      },
      "execution_count": null,
      "outputs": []
    },
    {
      "cell_type": "markdown",
      "source": [
        "### PLAYING WITH OUR TOY PROBLEM\n",
        "$H = 0.2 \\cdot I\\otimes I +0.6\\cdot  I\\otimes Z + 0.4 \\cdot X \\otimes X + 0.3\\cdot  Y\\otimes Z$"
      ],
      "metadata": {
        "id": "-Ay_aceEg-yR"
      }
    },
    {
      "cell_type": "code",
      "source": [
        "HAMILTONIAN = [\n",
        "    PauliTerm(pauli=[Pauli.I, Pauli.I], coefficient=0.2),\n",
        "    PauliTerm(pauli=[Pauli.I, Pauli.Z], coefficient=0.6),\n",
        "    PauliTerm(pauli=[Pauli.X, Pauli.X], coefficient=0.4),\n",
        "    PauliTerm(pauli=[Pauli.Y, Pauli.Z], coefficient=0.3),\n",
        "\n",
        "]"
      ],
      "metadata": {
        "id": "jwcuHSR5hLRv"
      },
      "execution_count": null,
      "outputs": []
    },
    {
      "cell_type": "code",
      "source": [
        "HAMILTONIAN = [\n",
        "    PauliTerm(pauli=[Pauli.I, Pauli.I], coefficient=0.4),\n",
        "    PauliTerm(pauli=[Pauli.I, Pauli.Z], coefficient=0.1),\n",
        "    PauliTerm(pauli=[Pauli.X, Pauli.X], coefficient=0.05),\n",
        "    PauliTerm(pauli=[Pauli.Z, Pauli.Z], coefficient=0.2),\n",
        "]"
      ],
      "metadata": {
        "id": "ySAG0UnDm1wo"
      },
      "execution_count": null,
      "outputs": []
    },
    {
      "cell_type": "code",
      "source": [
        "lcu_pauli_coef = [p.coefficient for p in HAMILTONIAN] #CALCULATING coefficients for the LCU, alpha factor:\n",
        "normalization_ham, lcu_size_ham, prepare_probs_ham = get_normalized_lcu_coef(\n",
        "    lcu_pauli_coef\n",
        ")"
      ],
      "metadata": {
        "colab": {
          "base_uri": "https://localhost:8080/"
        },
        "id": "kPq_PDuihO6I",
        "outputId": "d0fd4eb9-86db-48b0-a237-30336b9c85c0"
      },
      "execution_count": null,
      "outputs": [
        {
          "output_type": "stream",
          "name": "stdout",
          "text": [
            "The size of the block encoding: 2\n",
            "The normalized coefficients: [0.5333333333333333, 0.13333333333333333, 0.06666666666666667, 0.26666666666666666]\n",
            "The normalization factor: 0.75\n"
          ]
        }
      ]
    },
    {
      "cell_type": "markdown",
      "source": [
        "##Verification of the Hamiltonian Block Encoding\n",
        "For this, we define a model in which we apply $U_H$\n",
        " on some random vector state of size $2^n\\cdot 2^m$ , $(\\vec{b},\\vec{0})$\n",
        "\n",
        ", and verify that the resulting state, after post-selection, gives $(H/\\bar{\\alpha})\\vec{b}\n",
        ".$"
      ],
      "metadata": {
        "id": "Jbvyoq75hjXO"
      }
    },
    {
      "cell_type": "code",
      "source": [
        "data_size = len(HAMILTONIAN[0].pauli)\n",
        "b = np.random.rand(2**data_size)\n",
        "b = (b / np.linalg.norm(b)).tolist()"
      ],
      "metadata": {
        "id": "aq_YoN_fjome"
      },
      "execution_count": null,
      "outputs": []
    },
    {
      "cell_type": "code",
      "source": [
        "@qfunc\n",
        "def main(data: Output[QNum], block: Output[QNum]):\n",
        "    allocate(lcu_size_ham, block)\n",
        "    prepare_amplitudes(b, 0.0, data)\n",
        "    lcu_paulis(HAMILTONIAN, prepare_probs_ham, block, data)\n"
      ],
      "metadata": {
        "id": "yTRZyUR2jwJW"
      },
      "execution_count": null,
      "outputs": []
    },
    {
      "cell_type": "markdown",
      "source": [
        "###Post-process Functions\n",
        "Working with block-encoding typically requires post-selection of the block variables being at state 0\n",
        "\n",
        "We will work with a state vector simulator. We will define a function that gets execution results and returns a projected state vector."
      ],
      "metadata": {
        "id": "_CUQcuvnbc3p"
      }
    },
    {
      "cell_type": "code",
      "source": [
        "from classiq.execution import (\n",
        "    ClassiqBackendPreferences,\n",
        "    ClassiqSimulatorBackendNames,\n",
        "    ExecutionPreferences,\n",
        ")"
      ],
      "metadata": {
        "id": "NHCvMkdBmOpj"
      },
      "execution_count": null,
      "outputs": []
    },
    {
      "cell_type": "code",
      "source": [
        "## fix the execution preferences for this tutorial\n",
        "Execution_Prefs = ExecutionPreferences(\n",
        "        num_shots=5096,backend_preferences=ClassiqBackendPreferences(\n",
        "        backend_name=ClassiqSimulatorBackendNames.SIMULATOR_STATEVECTOR\n",
        "    ),\n",
        ")"
      ],
      "metadata": {
        "id": "obGFK2AYrEOw"
      },
      "execution_count": null,
      "outputs": []
    },
    {
      "cell_type": "code",
      "source": [
        "\"\"\" Classiq offers integration with multiple cloud providers, to allow seamless execution of quantum programs on multiple backends,\n",
        " in this ocation we use Classiq cloud but we can change for whatever we want\"\"\"\n",
        "\n",
        "quantum_model = create_model(main)\n",
        "quantum_model_with_execution_preferences = set_execution_preferences(\n",
        "    quantum_model,\n",
        "    ExecutionPreferences(\n",
        "        num_shots=5096,backend_preferences=ClassiqBackendPreferences(\n",
        "        backend_name=ClassiqSimulatorBackendNames.SIMULATOR_STATEVECTOR\n",
        "    ), job_name=\"hamiltonian_simulator\", random_seed=767\n",
        "    ),\n",
        ")"
      ],
      "metadata": {
        "id": "9DHiqZt4mUZS"
      },
      "execution_count": null,
      "outputs": []
    },
    {
      "cell_type": "code",
      "source": [
        "quantum_program_with_execution_preferences = synthesize(\n",
        "    quantum_model_with_execution_preferences\n",
        ")\n",
        "job = execute(quantum_program_with_execution_preferences)"
      ],
      "metadata": {
        "id": "XV-7rPsajxay"
      },
      "execution_count": null,
      "outputs": []
    },
    {
      "cell_type": "code",
      "source": [
        "show(quantum_program_with_execution_preferences)"
      ],
      "metadata": {
        "colab": {
          "base_uri": "https://localhost:8080/"
        },
        "id": "SFZbcgfpkmd3",
        "outputId": "3c95b765-72a9-4b8b-bb44-65950dbd52c9"
      },
      "execution_count": 122,
      "outputs": [
        {
          "output_type": "stream",
          "name": "stdout",
          "text": [
            "Opening: https://platform.classiq.io/circuit/2d0a0d4e-fe8d-4e68-a033-bb783d9b8e9a?version=0.44.0\n"
          ]
        }
      ]
    },
    {
      "cell_type": "code",
      "source": [
        "res = execute(quantum_program_with_execution_preferences).result()\n"
      ],
      "metadata": {
        "id": "aDElIItIkqzy"
      },
      "execution_count": null,
      "outputs": []
    },
    {
      "cell_type": "code",
      "source": [
        "#We use our pre-defined function for the post-selection:\n",
        "state_result = get_projected_state_vector(res, \"data\", {\"block\": 0.0})"
      ],
      "metadata": {
        "id": "OsUx736Lk0YX"
      },
      "execution_count": null,
      "outputs": []
    },
    {
      "cell_type": "markdown",
      "source": [
        " For comparing to the expected result, we define classical functions that help us to get the matrix in the standard basis:"
      ],
      "metadata": {
        "id": "ND5aqAhdk9sI"
      }
    },
    {
      "cell_type": "code",
      "source": [
        "PAULI_MATRICES_DICT = {\n",
        "    Pauli.I: np.array([[1, 0], [0, 1]], dtype=np.complex128),\n",
        "    Pauli.Z: np.array([[1, 0], [0, -1]], dtype=np.complex128),\n",
        "    Pauli.X: np.array([[0, 1], [1, 0]], dtype=np.complex128),\n",
        "    Pauli.Y: np.array([[0, -1j], [1j, 0]], dtype=np.complex128),\n",
        "}\n",
        "\n",
        "\n",
        "def pauli_list_to_mat(pauli_list: list) -> np.ndarray:\n",
        "    real_matrix = 0\n",
        "    for term in pauli_list:\n",
        "        single_str = PAULI_MATRICES_DICT[term.pauli[0]]\n",
        "        for pauli in term.pauli[1:]:\n",
        "            single_str = np.kron(single_str, PAULI_MATRICES_DICT[pauli])\n",
        "        real_matrix += term.coefficient * single_str\n",
        "\n",
        "    assert np.allclose(\n",
        "        np.transpose(np.conjugate(real_matrix)), real_matrix\n",
        "    ), \"matrix not Hermitian\"\n",
        "    assert np.allclose(np.imag(real_matrix), 0.0), \"matrix is not real valued\"\n",
        "    return np.real(real_matrix)"
      ],
      "metadata": {
        "id": "YceYngSQk_P0"
      },
      "execution_count": null,
      "outputs": []
    },
    {
      "cell_type": "code",
      "source": [
        "matrix = pauli_list_to_mat(HAMILTONIAN)"
      ],
      "metadata": {
        "id": "G1vpIqvilELI"
      },
      "execution_count": null,
      "outputs": []
    },
    {
      "cell_type": "code",
      "source": [
        "expected_state = matrix / normalization_ham @ b\n",
        "relative_phase = np.angle(expected_state[0] / state_result[0])\n",
        "state_result = state_result * np.exp(1j * relative_phase)"
      ],
      "metadata": {
        "id": "jaGuGL2wlFSN"
      },
      "execution_count": null,
      "outputs": []
    },
    {
      "cell_type": "code",
      "source": [
        "print(\"The resulting state:\", np.real(state_result))\n",
        "print(\"The expected state:\", expected_state)\n",
        "assert np.allclose(np.real(state_result), expected_state)"
      ],
      "metadata": {
        "colab": {
          "base_uri": "https://localhost:8080/"
        },
        "id": "uqpXlVZvnrGr",
        "outputId": "450194a8-499a-44ee-b659-dcfc25601681"
      },
      "execution_count": null,
      "outputs": [
        {
          "output_type": "stream",
          "name": "stdout",
          "text": [
            "The resulting state: [0.59277049 0.10811308 0.25792229 0.1217088 ]\n",
            "The expected state: [0.59277049 0.10811308 0.25792229 0.1217088 ]\n"
          ]
        }
      ]
    },
    {
      "cell_type": "markdown",
      "source": [
        "#Hamiltonian Simulation with Qubitization"
      ],
      "metadata": {
        "id": "7vq6xz1aobVZ"
      }
    },
    {
      "cell_type": "markdown",
      "source": [
        "Given our block-encoding $U_{(s,m,0)-H}$\n",
        " we can define the following operator (usually called Szegedy quanutm walk-operator:\n",
        "\n",
        " $W\\equiv -\\Pi_{|0\\rangle_m} U_{(s,m,0)-H},$\n",
        " where $\\Pi_{|0\\rangle_m}$\n",
        " is a reflection operator about the block state. This unitary function has the important property that its powers correspond to a $(1,m,0)$\n",
        "-encoding of the Chebychev polynomials:\n",
        "\n",
        "$W^k = \\begin{pmatrix}\n",
        "T_k(H) & * \\\\\n",
        "* & *\n",
        "\\end{pmatrix}=U_{(1,m,0)-T_k(H)},$\n",
        "\n",
        "with $T_k$\n",
        " being the k-th Chebychev polynomial. For more details see Sec. 7 in Ref. [2] (the property holds only for Hermitian block-encoding, for generalization see comment 3 below). We can thus simply combine the Jacobi–Anger expansion with the LCU technique to get the block-encoding for the Hamiltonain simulation. Namely, we have an\n",
        "-approximation of\n",
        ", for which we can perform the following encoding\n",
        "$\n",
        "U_{(\\bar{\\beta},\\tilde{m},\\epsilon)-\\exp{(iHt)}} =\n",
        "\\begin{pmatrix}\n",
        "\\exp{(iHt)}/\\bar{\\beta} & * \\\\\n",
        "* & *\n",
        "\\end{pmatrix}=\n",
        "\\begin{pmatrix}\n",
        "\\frac{1}{\\bar{\\beta}}\\sum^d_{k=0} \\beta_{k} U_{(1,m,0)-T_k(H)} & * \\\\\n",
        "* & *\n",
        "\\end{pmatrix}=\n",
        "\\begin{pmatrix}\n",
        "\\frac{1}{\\bar{\\beta}}\\sum^d_{k=0} \\beta_{k} T_{k}(Ht) & * \\\\\n",
        "* & *\n",
        "\\end{pmatrix}\n",
        "=\\begin{pmatrix}\n",
        "\\frac{1}{\\bar{\\beta}}\\sum^d_{k=0} W^k & * \\\\\n",
        "* & *\n",
        "\\end{pmatrix},$\n",
        "\n",
        "where $\\tilde{m}=m+\\lceil \\log_2(d+1) \\rceil$\n",
        " (recall that $W$\n",
        " are block-encoding themeselves with block size\n",
        ")."
      ],
      "metadata": {
        "id": "UE2tOqy7oWyQ"
      }
    },
    {
      "cell_type": "markdown",
      "source": [
        "First we define a walk-operator for our specific toy problem. For the reflection we can use the reflect_about_zero quantum function from Classiq's open library."
      ],
      "metadata": {
        "id": "F_4lzQzHpdPK"
      }
    },
    {
      "cell_type": "code",
      "source": [
        "@qfunc\n",
        "def my_walk_operator(block: QArray[QBit], data: QArray[QBit]) -> None:\n",
        "    lcu_paulis(HAMILTONIAN, prepare_probs_ham, block, data)\n",
        "    reflect_about_zero(block)\n",
        "    RY(2 * pi, block[0])  # for the minus sign"
      ],
      "metadata": {
        "id": "cMTftHqGplTf"
      },
      "execution_count": null,
      "outputs": []
    },
    {
      "cell_type": "markdown",
      "source": [
        "Next, we use our pre-defined function to calculate the coefficients $\\beta_i$\n",
        " for approximating the sine and cosine functions. Recall that we want to approximate $e^{iHt}$\n",
        ", whereas our Hamiltonian is encoded with a normalization factor $\\bar{\\alpha}$\n",
        ". Therefore, we must rescale the time by this factor."
      ],
      "metadata": {
        "id": "IrZupAqypoT7"
      }
    },
    {
      "cell_type": "code",
      "source": [
        "from scipy.special import eval_chebyt, jv\n",
        "\n",
        "\n",
        "def get_cheb_coef(epsilon, t):\n",
        "    poly_degree = int(\n",
        "        np.ceil(\n",
        "            t\n",
        "            + np.log(epsilon ** (-1)) / np.log(np.exp(1) + np.log(epsilon ** (-1)) / t)\n",
        "        )\n",
        "    )\n",
        "    cos_coef = [jv(0, t)] + [\n",
        "        2 * jv(2 * k, t) * (-1) ** k for k in range(1, poly_degree // 2 + 1)\n",
        "    ]\n",
        "    sin_coef = [\n",
        "        -2 * jv(2 * k - 1, t) * (-1) ** k for k in range(1, poly_degree // 2 + 1)\n",
        "    ]\n",
        "    return cos_coef, sin_coef"
      ],
      "metadata": {
        "id": "8mgFZhBKqATq"
      },
      "execution_count": null,
      "outputs": []
    },
    {
      "cell_type": "code",
      "source": [
        "EVOLUTION_TIME = 10\n",
        "EPS = 0.1\n",
        "normalized_time = normalization_ham * EVOLUTION_TIME\n",
        "\n",
        "cos_coef, sin_coef = get_cheb_coef(EPS, normalized_time)\n",
        "\n",
        "combined_sin_cos_coef = []\n",
        "for k in range(len(cos_coef) - 1):\n",
        "    combined_sin_cos_coef.append(cos_coef[k])\n",
        "    combined_sin_cos_coef.append(sin_coef[k])\n",
        "combined_sin_cos_coef.append(cos_coef[-1])\n",
        "if len(sin_coef) == len(cos_coef):\n",
        "    combined_sin_cos_coef.append(sin_coef[-1])"
      ],
      "metadata": {
        "id": "Q_yUjDUop2fY"
      },
      "execution_count": null,
      "outputs": []
    },
    {
      "cell_type": "markdown",
      "source": [
        "Given the coefficients, we should now calculate the probabilities for the LCU prepare variable. These must be positive numbers. Moreover, for the odd terms, which corresponds to the sine function, we should add a factor of $i$. Those factors should be added to the unitary operations $W^k$. To take this into account, for each term we define a \"generalized sign\" $\\sigma_k$ such that $\\beta_k = e^{\\frac{\\pi}{2}\\sigma_k i} |\\beta_k|$ with $\\sigma_k \\in \\{0,1,2,3\\}$ that corresponds to the factors $1,i,-1,-i$ respectively."
      ],
      "metadata": {
        "id": "JX1OE-50qltn"
      }
    },
    {
      "cell_type": "code",
      "source": [
        "signs_cheb_coef = np.sign(combined_sin_cos_coef).tolist()\n",
        "generalized_signs = [\n",
        "    (1 - signs_cheb_coef[s]) + (s) % 2 for s in range(len(signs_cheb_coef))\n",
        "]\n",
        "positive_cheb_lcu_coef = np.abs(combined_sin_cos_coef)"
      ],
      "metadata": {
        "id": "xhy1Omfkqock"
      },
      "execution_count": null,
      "outputs": []
    },
    {
      "cell_type": "markdown",
      "source": [
        "Now that we have our positive coefficients, we can use the pre-defined pre-process function to get the probabilities for the LCU:"
      ],
      "metadata": {
        "id": "uJ4BuSbJqo9d"
      }
    },
    {
      "cell_type": "code",
      "source": [
        "normalization_exp, lcu_size_exp, prepare_probs_exp = get_normalized_lcu_coef(\n",
        "    positive_cheb_lcu_coef\n",
        ")"
      ],
      "metadata": {
        "colab": {
          "base_uri": "https://localhost:8080/"
        },
        "id": "xuwtZ5O_quYm",
        "outputId": "4c3afd72-f869-4b86-f912-449040ab9433"
      },
      "execution_count": null,
      "outputs": [
        {
          "output_type": "stream",
          "name": "stdout",
          "text": [
            "The size of the block encoding: 4\n",
            "The normalized coefficients: [0.06646302105481755, 0.0675004177853092, 0.1149259307002193, 0.1287942474920928, 0.011890532706545038, 0.14147748237907418, 0.17674611046555389, 0.14131629436581203, 0.0870443056839619, 0.04437822442664005, 0.019463432939974202, 0, 0, 0, 0, 0]\n",
            "The normalization factor: 4.007336014122893\n"
          ]
        }
      ]
    },
    {
      "cell_type": "markdown",
      "source": [
        "We define a quantum function for a generic LCU of Chebyshev polynomials, which gets the prepare probabilities, the generalized signs, and a walk operator as a quantum callable."
      ],
      "metadata": {
        "id": "WIRcU5ZJqxWg"
      }
    },
    {
      "cell_type": "code",
      "source": [
        "@qfunc\n",
        "def lcu_cheb(\n",
        "    coef: CArray[CReal],\n",
        "    generalized_signs: CArray[CInt],\n",
        "    walk_operator: QCallable[QNum, QArray],\n",
        "    walk_block: QNum,\n",
        "    walk_data: QArray,\n",
        "    cheb_block: QNum,\n",
        "):\n",
        "\n",
        "    within_apply(\n",
        "        lambda: inplace_prepare_state(coef, 0.0, cheb_block),\n",
        "        lambda: repeat(\n",
        "            generalized_signs.len,\n",
        "            lambda k: control(\n",
        "                cheb_block == k,\n",
        "                lambda: (\n",
        "                    U(0, 0, 0, pi / 2 * generalized_signs[k], walk_data[0]),\n",
        "                    power(k, lambda: walk_operator(walk_block, walk_data)),\n",
        "                ),\n",
        "            ),\n",
        "        ),\n",
        "    )"
      ],
      "metadata": {
        "id": "ERWIRtE4qzL0"
      },
      "execution_count": null,
      "outputs": []
    },
    {
      "cell_type": "code",
      "source": [
        "from classiq.qmod.symbolic import pi\n",
        "@qfunc\n",
        "def main(ham_block: Output[QNum], data: Output[QNum], exp_block: Output[QNum]):\n",
        "    allocate(lcu_size_exp, exp_block)\n",
        "    allocate(lcu_size_ham, ham_block)\n",
        "    prepare_amplitudes(b, 0.0, data)\n",
        "    lcu_cheb(\n",
        "        prepare_probs_exp,\n",
        "        generalized_signs,\n",
        "        lambda x, y: my_walk_operator(x, y),\n",
        "        ham_block,\n",
        "        data,\n",
        "        exp_block,\n",
        "    )\n",
        "\n",
        "\n",
        "qmod = create_model(main, execution_preferences=Execution_Prefs)\n",
        "write_qmod(qmod, \"hamiltonian_simulation_qubitization\", decimal_precision=12)"
      ],
      "metadata": {
        "id": "6TD_2X0erMYS"
      },
      "execution_count": null,
      "outputs": []
    },
    {
      "cell_type": "code",
      "source": [
        "qprog = synthesize(qmod)\n",
        "show(qprog)"
      ],
      "metadata": {
        "colab": {
          "base_uri": "https://localhost:8080/"
        },
        "id": "_A3rjwOwrde2",
        "outputId": "fdf525dd-6f70-45c8-850f-8e09c4d6c42c"
      },
      "execution_count": null,
      "outputs": [
        {
          "output_type": "stream",
          "name": "stdout",
          "text": [
            "Opening: https://platform.classiq.io/circuit/398d270d-b4c5-42b2-981d-5645422eb1be?version=0.44.0\n"
          ]
        }
      ]
    },
    {
      "cell_type": "code",
      "source": [
        "results = execute(qprog).result()"
      ],
      "metadata": {
        "id": "6w7PdQTtrlPe"
      },
      "execution_count": null,
      "outputs": []
    },
    {
      "cell_type": "code",
      "source": [
        "state_result = get_projected_state_vector(\n",
        "    results, \"data\", {\"exp_block\": 0.0, \"ham_block\": 0.0}\n",
        ")"
      ],
      "metadata": {
        "id": "y7lLxP17rl_a"
      },
      "execution_count": null,
      "outputs": []
    },
    {
      "cell_type": "code",
      "source": [
        "expected_state = (\n",
        "    1 / normalization_exp * scipy.linalg.expm(1j * matrix * EVOLUTION_TIME) @ b\n",
        ")\n",
        "relative_phase = np.angle(expected_state[0] / state_result[0])\n",
        "state_result = state_result * np.exp(\n",
        "    1j * relative_phase\n",
        ")  # rotate according to a global phase\n",
        "print(\"expected state:\", expected_state)\n",
        "print(\"resulting state:\", state_result)\n",
        "assert np.linalg.norm(state_result - expected_state) < EPS"
      ],
      "metadata": {
        "colab": {
          "base_uri": "https://localhost:8080/"
        },
        "id": "kXqNneajrnZy",
        "outputId": "50fb7dad-42e5-4c91-97f1-a48042d36c65"
      },
      "execution_count": null,
      "outputs": [
        {
          "output_type": "stream",
          "name": "stdout",
          "text": [
            "expected state: [ 0.10417095+0.11318781j  0.02230509+0.0741775j  -0.17535282-0.01350316j\n",
            "  0.02341227+0.03360672j]\n",
            "resulting state: [ 0.10270752+0.1115977j   0.02019997+0.07282236j -0.17594503-0.01183846j\n",
            "  0.0228454 +0.03341295j]\n"
          ]
        }
      ]
    },
    {
      "cell_type": "code",
      "source": [
        "print(\n",
        "    \"overlap between expected and resulting state:\",\n",
        "    np.abs(np.vdot(state_result, expected_state))\n",
        "    * normalization_exp\n",
        "    / np.linalg.norm(state_result),\n",
        ")"
      ],
      "metadata": {
        "colab": {
          "base_uri": "https://localhost:8080/"
        },
        "id": "ffNQQvR5rrq9",
        "outputId": "263170aa-a0d1-4040-e0be-0ea108aeb6d1"
      },
      "execution_count": null,
      "outputs": [
        {
          "output_type": "stream",
          "name": "stdout",
          "text": [
            "overlap between expected and resulting state: 0.9999088609126758\n"
          ]
        }
      ]
    },
    {
      "cell_type": "markdown",
      "source": [
        "# Hamiltonian Simulation with QSVT"
      ],
      "metadata": {
        "id": "B46K6hsPrt3C"
      }
    },
    {
      "cell_type": "markdown",
      "source": [
        "In the QSVT approach we repeatedly apply two operations:  $U_H$ application and rotated reflections around the block space, applied on an extra qubit. The value of the rotation angles can be found using the `pyqsp` package.\n",
        "\n",
        "The QSVT gives block-encoding of polynomials with a well defined-parity. Thus, we have to apply two QSVT blocks, one for approximating the $\\cos(xt)$ function and one for the $\\sin(xt)$ function, and then, for the finale, construct an LCU to get the block-encoding the sum: $e^{ixt} = \\cos(xt)+i\\sin(xt)$\n",
        "\n"
      ],
      "metadata": {
        "id": "KTysPJmqrwQk"
      }
    },
    {
      "cell_type": "markdown",
      "source": [
        "Initially we will calculate the rotation angles for the sine and cosine polynomial approximations. As in the Qubitization method, we need to normalize the evolution time $t$. In addition, the `pysqp` adds a factor $1/2$ to the sine and cosine polynomials."
      ],
      "metadata": {
        "id": "mpZC4eAbsa21"
      }
    },
    {
      "cell_type": "code",
      "source": [
        "import pyqsp\n",
        "from pyqsp.angle_sequence import Polynomial, QuantumSignalProcessingPhases\n",
        "\n",
        "pg_cos = pyqsp.poly.PolyCosineTX()\n",
        "pcoefs_cos, scale_cos = pg_cos.generate(\n",
        "    epsilon=EPS, tau=normalized_time, return_scale=True\n",
        ")\n",
        "poly_cos = Polynomial(pcoefs_cos)\n",
        "\n",
        "pg_sin = pyqsp.poly.PolySineTX()\n",
        "pcoefs_sin, scale_sin = pg_sin.generate(\n",
        "    epsilon=EPS, tau=normalized_time, return_scale=True\n",
        ")\n",
        "poly_sin = Polynomial(pcoefs_sin)"
      ],
      "metadata": {
        "colab": {
          "base_uri": "https://localhost:8080/"
        },
        "id": "EGZcvMi3sjoM",
        "outputId": "3b40179e-a582-428b-f253-f4fda8aeaab0"
      },
      "execution_count": null,
      "outputs": [
        {
          "output_type": "stream",
          "name": "stdout",
          "text": [
            "12.104183283573647\n",
            "R=6\n",
            "[PolyCosineTX] rescaling by 0.5.\n",
            "12.104183283573647\n",
            "R=6\n",
            "[PolySineTX] rescaling by 0.5.\n"
          ]
        }
      ]
    },
    {
      "cell_type": "code",
      "source": [
        "ang_seq_cos = QuantumSignalProcessingPhases(\n",
        "    poly_cos,\n",
        "    signal_operator=\"Wx\",\n",
        "    method=\"laurent\",\n",
        "    measurement=\"x\",\n",
        "    tolerance=0.00001,  # relaxing the tolerance to get convergence\n",
        ")\n",
        "\n",
        "ang_seq_sin = QuantumSignalProcessingPhases(\n",
        "    poly_sin,\n",
        "    signal_operator=\"Wx\",\n",
        "    method=\"laurent\",\n",
        "    measurement=\"x\",\n",
        "    tolerance=0.00001,  # relaxing the tolerance to get convergence\n",
        ")\n",
        "\n",
        "\n",
        "# change W(x) to R(x), as the phases are in the W(x) conventions\n",
        "def convert_phases_to_Rx_convention(ang_seq):\n",
        "\n",
        "    phases = np.array(ang_seq)\n",
        "    phases[1:-1] = phases[1:-1] - np.pi / 2\n",
        "    phases[0] = phases[0] - np.pi / 4\n",
        "    phases[-1] = phases[-1] + (2 * (len(phases) - 1) - 1) * np.pi / 4\n",
        "\n",
        "    # verify conventions. minus is due to exp(-i*phi*z) in qsvt in comparison to qsp\n",
        "    phases = -2 * phases\n",
        "\n",
        "    return phases.tolist()"
      ],
      "metadata": {
        "id": "fESz42ZpsmbJ"
      },
      "execution_count": null,
      "outputs": []
    },
    {
      "cell_type": "markdown",
      "source": [
        "The list of angles to use within the `qsvt` function are given by:"
      ],
      "metadata": {
        "id": "LLR76jTStC78"
      }
    },
    {
      "cell_type": "code",
      "source": [
        "phases_cos = convert_phases_to_Rx_convention(ang_seq_cos)\n",
        "phases_sin = convert_phases_to_Rx_convention(ang_seq_sin)"
      ],
      "metadata": {
        "id": "idJGsYeXtIdY"
      },
      "execution_count": null,
      "outputs": []
    },
    {
      "cell_type": "markdown",
      "source": [
        "Next, we use Classiq's qsvt function to get the QSVT of the sine and cosine block encoding."
      ],
      "metadata": {
        "id": "rdtHsry4tQMU"
      }
    },
    {
      "cell_type": "markdown",
      "source": [
        "We define a qsvt function for our specific Hamiltonian and approximation. Passing it the series of angles `phases_cos` or `phases_sin` generates the block-encodings:\n",
        "$$\n",
        "U_{(2,m+1,\\epsilon)-\\cos(Ht)} = \\begin{pmatrix}\n",
        "\\cos(iHt)/2 & * \\\\\n",
        "* & *\n",
        "\\end{pmatrix}, \\,\\,\\,\\,\\,\\,\n",
        "U_{(2,m+1,\\epsilon)-\\sin(Ht)} = \\begin{pmatrix}\n",
        "\\sin(iHt)/2 & * \\\\\n",
        "* & *\n",
        "\\end{pmatrix}\n",
        "$$  \n",
        "where the extra qubit and factor $1/2$ in the encoding comes from the QSVT."
      ],
      "metadata": {
        "id": "rHDR_6dttU5O"
      }
    },
    {
      "cell_type": "code",
      "source": [
        "@qfunc\n",
        "def identify_block(num_data_qubits: CInt, qvar: QArray[QBit], qubit: QBit):\n",
        "    block_qubits = QNum(\"block_qubits\", qvar.len - num_data_qubits, False, 0)\n",
        "    data = QArray(\"data\", length=num_data_qubits)\n",
        "\n",
        "    bind(qvar, [block_qubits, data])\n",
        "    qubit ^= block_qubits == 0\n",
        "    bind([block_qubits, data], qvar)\n",
        "\n",
        "\n",
        "# defining a qsvt for our toy problem\n",
        "@qfunc\n",
        "def my_qsvt(phases: CArray[CReal], qsvt_aux: QBit, block_ham: QArray, data: QArray):\n",
        "    combined_vars = QArray(\"combined_vars\")\n",
        "    bind([block_ham, data], combined_vars)\n",
        "\n",
        "    qsvt(\n",
        "        phase_seq=phases,\n",
        "        proj_cnot_1=lambda qvar, qubit: identify_block(data.len, qvar, qubit),\n",
        "        proj_cnot_2=lambda qvar, qubit: identify_block(data.len, qvar, qubit),\n",
        "        u=lambda x: lcu_paulis(\n",
        "            HAMILTONIAN,\n",
        "            prepare_probs_ham,\n",
        "            x[0 : block_ham.len],\n",
        "            x[block_ham.len : x.len],\n",
        "        ),\n",
        "        qvar=combined_vars,\n",
        "        aux=qsvt_aux,\n",
        "    )\n",
        "\n",
        "    bind(combined_vars, [block_ham, data])"
      ],
      "metadata": {
        "id": "BcSojY62tcPU"
      },
      "execution_count": null,
      "outputs": []
    },
    {
      "cell_type": "markdown",
      "source": [
        "To get our desired Hamiltonian simulation we apply an LCU with the two unitaries:\n",
        "$$\n",
        "U_{(2,m+1,\\epsilon)-\\cos(Ht)} + iU_{(2,m+1,\\epsilon)-\\sin(Ht)},\n",
        "$$\n",
        "The normalized LCU coefficients are thus $(1/2,1/2)$, giving an $(4, m+2,\\epsilon)$-encoding for the Hamiltonian simulation:\n",
        "$$\n",
        "U_{((4, m+2,\\epsilon))-\\exp{(iHt)}} = \\begin{pmatrix}\n",
        "\\frac{1}{4}\\exp{(iHt)} & * \\\\\n",
        "* & *\n",
        "\\end{pmatrix}.\n",
        "$$\n"
      ],
      "metadata": {
        "id": "VVPvOAndtoKV"
      }
    },
    {
      "cell_type": "markdown",
      "source": [
        " In the rest of this section we build a model that applies this block-encoding on the randomly prepared $(\\vec{b},\\vec{0})$; synthesizes it; executes the resulting quantum program; and verifies the results and our next step its take finally our desired hamiltonian of coupled classical oscillators"
      ],
      "metadata": {
        "id": "-kMEJ1Ict-Un"
      }
    },
    {
      "cell_type": "code",
      "source": [
        "@qfunc\n",
        "def main(\n",
        "    qsvt_aux: Output[QBit],\n",
        "    block_ham: Output[QNum],\n",
        "    data: Output[QNum],\n",
        "    block_exp: Output[QBit],\n",
        "):\n",
        "    allocate(1, qsvt_aux)\n",
        "    allocate(1, block_exp)\n",
        "    allocate(lcu_size_ham, block_ham)\n",
        "    prepare_amplitudes(b, 0.0, data)\n",
        "    within_apply(\n",
        "        lambda: H(block_exp),\n",
        "        lambda: (\n",
        "            control(\n",
        "                block_exp == 0,  # cosine\n",
        "                lambda: my_qsvt(phases_cos, qsvt_aux, block_ham, data),\n",
        "            ),\n",
        "            control(\n",
        "                block_exp == 1,  # sine\n",
        "                lambda: (\n",
        "                    U(0, 0, 0, pi / 2, qsvt_aux),  # for the i factor\n",
        "                    my_qsvt(phases_sin, qsvt_aux, block_ham, data),\n",
        "                ),\n",
        "            ),\n",
        "        ),\n",
        "    )"
      ],
      "metadata": {
        "id": "WdDZcW1ouWzr"
      },
      "execution_count": null,
      "outputs": []
    },
    {
      "cell_type": "code",
      "source": [
        "qmod = create_model(main, execution_preferences=Execution_Prefs)\n",
        "write_qmod(qmod, \"hamiltonian_simulation_qsvt\", decimal_precision=7)"
      ],
      "metadata": {
        "id": "hnvAxt7GuZBo"
      },
      "execution_count": null,
      "outputs": []
    },
    {
      "cell_type": "code",
      "source": [
        "qprog = synthesize(qmod)\n",
        "show(qprog)"
      ],
      "metadata": {
        "colab": {
          "base_uri": "https://localhost:8080/"
        },
        "id": "XoK2bLp7uekM",
        "outputId": "d66f7a30-5ce7-4dad-918c-f1aec60bb485"
      },
      "execution_count": null,
      "outputs": [
        {
          "output_type": "stream",
          "name": "stdout",
          "text": [
            "Opening: https://platform.classiq.io/circuit/cd0ce4f7-d4b2-4f53-bfe6-3c4ad8e9a57b?version=0.44.0\n"
          ]
        }
      ]
    },
    {
      "cell_type": "code",
      "source": [
        "results = execute(qprog).result()"
      ],
      "metadata": {
        "id": "e2lyUTwFuhYV"
      },
      "execution_count": null,
      "outputs": []
    },
    {
      "cell_type": "code",
      "source": [
        "state_result = get_projected_state_vector(\n",
        "    results, \"data\", {\"block_ham\": 0.0, \"qsvt_aux\": 0.0, \"block_exp\": 0.0}\n",
        ")"
      ],
      "metadata": {
        "id": "9Z8cQRtZuh3h"
      },
      "execution_count": null,
      "outputs": []
    },
    {
      "cell_type": "code",
      "source": [
        "expected_state = 1 / 4 * scipy.linalg.expm(1j * matrix * EVOLUTION_TIME) @ b\n",
        "relative_phase = np.angle(expected_state[0] / state_result[0])\n",
        "state_result = state_result * np.exp(\n",
        "    1j * relative_phase\n",
        ")  # rotate according to a global phase\n",
        "print(\"expected state:\", expected_state)\n",
        "print(\"resulting state:\", state_result)\n",
        "assert np.linalg.norm(state_result - expected_state) < EPS"
      ],
      "metadata": {
        "colab": {
          "base_uri": "https://localhost:8080/"
        },
        "id": "ZBmMsjZXujZ9",
        "outputId": "96e38e9b-9586-41d3-8574-44ea2f22a5c1"
      },
      "execution_count": null,
      "outputs": [
        {
          "output_type": "stream",
          "name": "stdout",
          "text": [
            "expected state: [ 0.104362  +0.1133954j   0.022346  +0.07431354j -0.17567442-0.01352793j\n",
            "  0.02345521+0.03366836j]\n",
            "resulting state: [ 0.10434454+0.11337642j  0.02232913+0.07427543j -0.17581702-0.01349815j\n",
            "  0.02344675+0.03366169j]\n"
          ]
        }
      ]
    },
    {
      "cell_type": "code",
      "source": [
        "print(\n",
        "    \"overlap between expected and resulting state:\",\n",
        "    np.abs(np.vdot(state_result, expected_state)) * 4 / np.linalg.norm(state_result),\n",
        ")"
      ],
      "metadata": {
        "colab": {
          "base_uri": "https://localhost:8080/"
        },
        "id": "R4kHuvYsumk1",
        "outputId": "8ff00033-8a1c-4adc-f22d-2a960411eb8e"
      },
      "execution_count": null,
      "outputs": [
        {
          "output_type": "stream",
          "name": "stdout",
          "text": [
            "overlap between expected and resulting state: 0.9999998529726876\n"
          ]
        }
      ]
    },
    {
      "cell_type": "markdown",
      "source": [
        "##HAMILTONIAN SIMULATION OF COUPLED CLASSICAL OSCILLATORS"
      ],
      "metadata": {
        "id": "qT2kedLGvLhO"
      }
    },
    {
      "cell_type": "markdown",
      "source": [
        "Now that we know some techniques and how they are implemented, we will go further to the specific case of the paper https://arxiv.org/pdf/2303.13012 \"Exponential quantum speedup in simulating coupled classical oscillators\" applying those approximations in this specific Hamiltonian"
      ],
      "metadata": {
        "id": "RQqdlB_cvZE0"
      }
    },
    {
      "cell_type": "markdown",
      "source": [
        "At a high level, in the glued trees problem of\n",
        "Ref. [2], we are given oracle access to the adjacency\n",
        "matrix of a sparse graph with an ENTRANCE vertex,\n",
        "and the goal is to find the EXIT vertex. We map this\n",
        "problem to a system of masses and springs by putting\n",
        "a unit mass at each vertex and a spring of unit spring\n",
        "constant at every edge. Then we show that if the\n",
        "system starts at rest except with the ENTRANCE\n",
        "vertex having unit velocity, after polynomial time,\n",
        "the EXIT vertex will have inverse polynomial velocity,\n",
        "Formally,\n",
        "In this paper we  study the following problem:\n"
      ],
      "metadata": {
        "id": "JchnYFzzv48m"
      }
    },
    {
      "cell_type": "markdown",
      "source": [
        "Consider a network of N = 2n+1 − 2\n",
        "masses coupled by springs, where $M = 1$ and $K$ coin\u0002cides with the adjacency matrix of a graph consisting\n",
        "of two balanced binary trees of depth n “glued” ran\u0002domly as in Figure A (i.e., the spring constants are\n",
        "$κ_{jk} = 1 $if (j, k) is an edge of the graph or $κ_{jk}$ = 0\n",
        "otherwise). Each mass (vertex) of the network is\n",
        "labeled randomly with a bit string of size $2n$. The\n",
        "network contains two special and verifiable masses,\n",
        "ENTRANCE and EXIT, which correspond to the\n",
        "roots of both trees. Given oracle access to $K$ and the\n",
        "label of the ENTRANCE mass, the problem is to find\n",
        "the label of the EXIT mass."
      ],
      "metadata": {
        "id": "Lr5XxNujyiNR"
      }
    },
    {
      "cell_type": "code",
      "source": [],
      "metadata": {
        "id": "icCyaQkpOTSI"
      },
      "execution_count": null,
      "outputs": []
    },
    {
      "cell_type": "markdown",
      "source": [
        "![image.png](data:image/png;base64,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)\n",
        "\n",
        " A network of N = 2n+1 − 2 coupled oscillators\n",
        "obtained by randomly gluing two binary trees. Each mass\n",
        "is mj = 1 for all j ∈ [N] and is labeled by a random\n",
        "bit string of size 2n. Edges denote springs of constant\n",
        "κjk = 1. The goal is to find the label of the EXIT mass\n",
        "given the label of the ENTRANCE mass and given oracle\n",
        "access to the network."
      ],
      "metadata": {
        "id": "zJ_s6EFxyhym"
      }
    },
    {
      "cell_type": "markdown",
      "source": [
        "While this notebook will be following the algorithm described by the[1] 2023 paper above, it should be noted that this problem was first set by this paper from October 2002 [2].\n",
        "\n",
        "The following code segment imports all the necessary libraries for this notebook. Both Qiskit and NetworkX are required for the generate_pauli_list function, but the Pauli lists for 10 and 20 qubits (the examples in this notebook) have already been generated and cached in the glued_trees_cache.json file."
      ],
      "metadata": {
        "id": "JPMJ6vP0zsZg"
      }
    },
    {
      "cell_type": "code",
      "source": [
        "!pip install qiskit"
      ],
      "metadata": {
        "colab": {
          "base_uri": "https://localhost:8080/"
        },
        "id": "9and-L5c1OxL",
        "outputId": "250c991b-7520-4dae-b071-935d3622fd14"
      },
      "execution_count": 111,
      "outputs": [
        {
          "output_type": "stream",
          "name": "stdout",
          "text": [
            "Collecting qiskit\n",
            "  Downloading qiskit-1.1.2-cp38-abi3-manylinux_2_17_x86_64.manylinux2014_x86_64.whl.metadata (12 kB)\n",
            "Collecting rustworkx>=0.14.0 (from qiskit)\n",
            "  Downloading rustworkx-0.15.1-cp38-abi3-manylinux_2_17_x86_64.manylinux2014_x86_64.whl.metadata (9.9 kB)\n",
            "Requirement already satisfied: numpy<3,>=1.17 in /usr/local/lib/python3.10/dist-packages (from qiskit) (1.26.4)\n",
            "Requirement already satisfied: scipy>=1.5 in /usr/local/lib/python3.10/dist-packages (from qiskit) (1.13.1)\n",
            "Requirement already satisfied: sympy>=1.3 in /usr/local/lib/python3.10/dist-packages (from qiskit) (1.13.1)\n",
            "Collecting dill>=0.3 (from qiskit)\n",
            "  Downloading dill-0.3.8-py3-none-any.whl.metadata (10 kB)\n",
            "Requirement already satisfied: python-dateutil>=2.8.0 in /usr/local/lib/python3.10/dist-packages (from qiskit) (2.8.2)\n",
            "Collecting stevedore>=3.0.0 (from qiskit)\n",
            "  Downloading stevedore-5.2.0-py3-none-any.whl.metadata (2.3 kB)\n",
            "Requirement already satisfied: typing-extensions in /usr/local/lib/python3.10/dist-packages (from qiskit) (4.12.2)\n",
            "Collecting symengine>=0.11 (from qiskit)\n",
            "  Downloading symengine-0.11.0-cp310-cp310-manylinux_2_12_x86_64.manylinux2010_x86_64.whl.metadata (1.2 kB)\n",
            "Requirement already satisfied: six>=1.5 in /usr/local/lib/python3.10/dist-packages (from python-dateutil>=2.8.0->qiskit) (1.16.0)\n",
            "Collecting pbr!=2.1.0,>=2.0.0 (from stevedore>=3.0.0->qiskit)\n",
            "  Downloading pbr-6.0.0-py2.py3-none-any.whl.metadata (1.3 kB)\n",
            "Requirement already satisfied: mpmath<1.4,>=1.1.0 in /usr/local/lib/python3.10/dist-packages (from sympy>=1.3->qiskit) (1.3.0)\n",
            "Downloading qiskit-1.1.2-cp38-abi3-manylinux_2_17_x86_64.manylinux2014_x86_64.whl (4.2 MB)\n",
            "\u001b[2K   \u001b[90m━━━━━━━━━━━━━━━━━━━━━━━━━━━━━━━━━━━━━━━━\u001b[0m \u001b[32m4.2/4.2 MB\u001b[0m \u001b[31m30.6 MB/s\u001b[0m eta \u001b[36m0:00:00\u001b[0m\n",
            "\u001b[?25hDownloading dill-0.3.8-py3-none-any.whl (116 kB)\n",
            "\u001b[2K   \u001b[90m━━━━━━━━━━━━━━━━━━━━━━━━━━━━━━━━━━━━━━━━\u001b[0m \u001b[32m116.3/116.3 kB\u001b[0m \u001b[31m5.1 MB/s\u001b[0m eta \u001b[36m0:00:00\u001b[0m\n",
            "\u001b[?25hDownloading rustworkx-0.15.1-cp38-abi3-manylinux_2_17_x86_64.manylinux2014_x86_64.whl (2.0 MB)\n",
            "\u001b[2K   \u001b[90m━━━━━━━━━━━━━━━━━━━━━━━━━━━━━━━━━━━━━━━━\u001b[0m \u001b[32m2.0/2.0 MB\u001b[0m \u001b[31m53.4 MB/s\u001b[0m eta \u001b[36m0:00:00\u001b[0m\n",
            "\u001b[?25hDownloading stevedore-5.2.0-py3-none-any.whl (49 kB)\n",
            "\u001b[2K   \u001b[90m━━━━━━━━━━━━━━━━━━━━━━━━━━━━━━━━━━━━━━━━\u001b[0m \u001b[32m49.7/49.7 kB\u001b[0m \u001b[31m3.7 MB/s\u001b[0m eta \u001b[36m0:00:00\u001b[0m\n",
            "\u001b[?25hDownloading symengine-0.11.0-cp310-cp310-manylinux_2_12_x86_64.manylinux2010_x86_64.whl (39.4 MB)\n",
            "\u001b[2K   \u001b[90m━━━━━━━━━━━━━━━━━━━━━━━━━━━━━━━━━━━━━━━━\u001b[0m \u001b[32m39.4/39.4 MB\u001b[0m \u001b[31m25.5 MB/s\u001b[0m eta \u001b[36m0:00:00\u001b[0m\n",
            "\u001b[?25hDownloading pbr-6.0.0-py2.py3-none-any.whl (107 kB)\n",
            "\u001b[2K   \u001b[90m━━━━━━━━━━━━━━━━━━━━━━━━━━━━━━━━━━━━━━━━\u001b[0m \u001b[32m107.5/107.5 kB\u001b[0m \u001b[31m8.9 MB/s\u001b[0m eta \u001b[36m0:00:00\u001b[0m\n",
            "\u001b[?25hInstalling collected packages: symengine, rustworkx, pbr, dill, stevedore, qiskit\n",
            "Successfully installed dill-0.3.8 pbr-6.0.0 qiskit-1.1.2 rustworkx-0.15.1 stevedore-5.2.0 symengine-0.11.0\n"
          ]
        }
      ]
    },
    {
      "cell_type": "code",
      "source": [
        "!pip install \"qiskit[visualization]\">=1.0 --user"
      ],
      "metadata": {
        "colab": {
          "base_uri": "https://localhost:8080/"
        },
        "id": "NrbW-Dz71VAH",
        "outputId": "d7f7d618-7260-48d4-999e-82f9c6ce19c9"
      },
      "execution_count": 112,
      "outputs": [
        {
          "output_type": "stream",
          "name": "stdout",
          "text": [
            "\u001b[33m  WARNING: The scripts latex2text, latexencode and latexwalker are installed in '/root/.local/bin' which is not on PATH.\n",
            "  Consider adding this directory to PATH or, if you prefer to suppress this warning, use --no-warn-script-location.\u001b[0m\u001b[33m\n",
            "\u001b[0m"
          ]
        }
      ]
    },
    {
      "cell_type": "code",
      "source": [
        "!pip install qiskit-aer --user"
      ],
      "metadata": {
        "colab": {
          "base_uri": "https://localhost:8080/"
        },
        "id": "GyuL-7r-1ZFY",
        "outputId": "1951e1d7-fd39-4533-b4da-c01fb443d379"
      },
      "execution_count": 113,
      "outputs": [
        {
          "output_type": "stream",
          "name": "stdout",
          "text": [
            "Collecting qiskit-aer\n",
            "  Downloading qiskit_aer-0.14.2-cp310-cp310-manylinux_2_17_x86_64.manylinux2014_x86_64.whl.metadata (8.1 kB)\n",
            "Requirement already satisfied: qiskit>=0.45.2 in /usr/local/lib/python3.10/dist-packages (from qiskit-aer) (1.1.2)\n",
            "Requirement already satisfied: numpy>=1.16.3 in /usr/local/lib/python3.10/dist-packages (from qiskit-aer) (1.26.4)\n",
            "Requirement already satisfied: scipy>=1.0 in /usr/local/lib/python3.10/dist-packages (from qiskit-aer) (1.13.1)\n",
            "Requirement already satisfied: psutil>=5 in /usr/local/lib/python3.10/dist-packages (from qiskit-aer) (5.9.5)\n",
            "Requirement already satisfied: rustworkx>=0.14.0 in /usr/local/lib/python3.10/dist-packages (from qiskit>=0.45.2->qiskit-aer) (0.15.1)\n",
            "Requirement already satisfied: sympy>=1.3 in /usr/local/lib/python3.10/dist-packages (from qiskit>=0.45.2->qiskit-aer) (1.13.1)\n",
            "Requirement already satisfied: dill>=0.3 in /usr/local/lib/python3.10/dist-packages (from qiskit>=0.45.2->qiskit-aer) (0.3.8)\n",
            "Requirement already satisfied: python-dateutil>=2.8.0 in /usr/local/lib/python3.10/dist-packages (from qiskit>=0.45.2->qiskit-aer) (2.8.2)\n",
            "Requirement already satisfied: stevedore>=3.0.0 in /usr/local/lib/python3.10/dist-packages (from qiskit>=0.45.2->qiskit-aer) (5.2.0)\n",
            "Requirement already satisfied: typing-extensions in /usr/local/lib/python3.10/dist-packages (from qiskit>=0.45.2->qiskit-aer) (4.12.2)\n",
            "Requirement already satisfied: symengine>=0.11 in /usr/local/lib/python3.10/dist-packages (from qiskit>=0.45.2->qiskit-aer) (0.11.0)\n",
            "Requirement already satisfied: six>=1.5 in /usr/local/lib/python3.10/dist-packages (from python-dateutil>=2.8.0->qiskit>=0.45.2->qiskit-aer) (1.16.0)\n",
            "Requirement already satisfied: pbr!=2.1.0,>=2.0.0 in /usr/local/lib/python3.10/dist-packages (from stevedore>=3.0.0->qiskit>=0.45.2->qiskit-aer) (6.0.0)\n",
            "Requirement already satisfied: mpmath<1.4,>=1.1.0 in /usr/local/lib/python3.10/dist-packages (from sympy>=1.3->qiskit>=0.45.2->qiskit-aer) (1.3.0)\n",
            "Downloading qiskit_aer-0.14.2-cp310-cp310-manylinux_2_17_x86_64.manylinux2014_x86_64.whl (12.4 MB)\n",
            "\u001b[2K   \u001b[90m━━━━━━━━━━━━━━━━━━━━━━━━━━━━━━━━━━━━━━━━\u001b[0m \u001b[32m12.4/12.4 MB\u001b[0m \u001b[31m51.8 MB/s\u001b[0m eta \u001b[36m0:00:00\u001b[0m\n",
            "\u001b[?25hInstalling collected packages: qiskit-aer\n",
            "Successfully installed qiskit-aer-0.14.2\n"
          ]
        }
      ]
    },
    {
      "cell_type": "code",
      "source": [
        "import json\n",
        "import pathlib\n",
        "import random\n",
        "from typing import cast\n",
        "\n",
        "import matplotlib.pyplot as plt\n",
        "import numpy as np\n",
        "import tqdm\n",
        "\n",
        "from classiq import *\n",
        "from classiq.execution import ExecutionPreferences\n",
        "from qiskit.quantum_info import SparsePauliOp\n",
        "import networkx as nx"
      ],
      "metadata": {
        "id": "js5tqney0sl8"
      },
      "execution_count": 114,
      "outputs": []
    },
    {
      "cell_type": "code",
      "source": [
        "# notebooks path issue\n",
        "def get_path(file_name):\n",
        "    path = (\n",
        "        pathlib.Path(__file__).parent.resolve()\n",
        "        if \"__file__\" in globals()\n",
        "        else pathlib.Path(\".\")\n",
        "    )\n",
        "    return path / file_name"
      ],
      "metadata": {
        "id": "KAy6OTSz15G6"
      },
      "execution_count": 115,
      "outputs": []
    },
    {
      "cell_type": "markdown",
      "source": [
        "### Quantum Algorithm\n",
        "To model the columns of the glued trees structure as a system of coupled harmonic oscillators, we consider a matrix $\\mathbf{A}$ of size $N \\times N$ corresponding to the nodes of the glued trees structure, such that $N=2^{n+1}-2$ and $n$ is the number of columns of one of the two glued trees. This matrix is defined as $\\mathbf{A}:=3(\\mathbf{1}_N)-A$, where $A$ is the adjacency matrix of the glued trees system using any ordering.\n",
        "\n",
        "For demonstration purposes, we will be using a simple linear ordering of this adjacency matrix such that the entrance node is first and the exit node is last. This matrix will be symmetrical and take the following shape:\n",
        "$$\n",
        "\\mathbf{A} = \\begin{pmatrix}\n",
        "3 & -1 & -1 & 0 & \\cdots & \\cdots & \\cdots & \\cdots & 0 \\\\\n",
        "-1 & 3 & 0 & -1 & \\cdots & \\cdots & \\cdots & \\cdots & 0 \\\\\n",
        "-1 & 0 & 3 & 0 & \\cdots & \\cdots & \\cdots & \\cdots & 0 \\\\\n",
        "0 & -1 & 0 & 3 & \\cdots & \\cdots & \\cdots & \\cdots & 0 \\\\\n",
        "\\vdots & \\vdots & \\vdots & \\vdots & \\ddots & \\vdots & \\vdots & \\vdots & \\vdots \\\\\n",
        "\\vdots & \\vdots & \\vdots & \\vdots & \\vdots & 3 & 0 & -1 & 0 \\\\\n",
        "\\vdots & \\vdots & \\vdots & \\vdots & \\vdots & 0 & 3 & 0 & -1 \\\\\n",
        "\\vdots & \\vdots & \\vdots & \\vdots & \\vdots & -1 & 0 & 3 & -1 \\\\\n",
        "0 & 0 & 0 & 0 & \\cdots & 0 & -1 & -1 & 3\n",
        "\\end{pmatrix}\n",
        "$$\n",
        "\n",
        "As shown in further detail in the paper, we can define a block Hamiltonian $\\mathbf{H}$ such that\n",
        "$$\n",
        "\\mathbf{H} := -\\begin{pmatrix}\n",
        "\\mathbf{0} & \\mathbf{B} \\\\\n",
        "\\mathbf{B}^† & \\mathbf{0}\n",
        "\\end{pmatrix}\n",
        "$$\n",
        "where $\\mathbf{B}$ is any $N \\times M$ matrix such that $\\mathbf{B}\\mathbf{B}^†=\\mathbf{A}$. However, to use this matrix $\\mathbf{H}$ for Hamiltonian simulation, it must have a size corresponding to a power of two, while $\\mathbf{A}$ is size $N \\times N$. We can deal with this by ensuring that $\\mathbf{B}$ is size $N \\times (N+4)$, so the resulting Hamiltonian $\\mathbf{H}$ is a square matrix with side length $2N+4 = 2(2^{n+1}-2)+4 = 2^{n+2}$. This means that a glued trees system with $n$ columns for one tree can be simulated using $n+2$ qubits.\n",
        "\n",
        "The following code segments contain all of the helper methods that relate to creating the matrix $\\mathbf{H}$ and processing it in a form that Classiq's `exponentiation_with_depth_constraint` function can understand.\n",
        "\n",
        "The `pauli_str_to_enums` and `pauli_list_to_hamiltonian` functions are taken from the Classiq documentation and convert the list of tuples input into a `PauliTerm` list, the input Classiq recognizes for its exponentiation function."
      ],
      "metadata": {
        "id": "JTMy4Ltg19PX"
      }
    },
    {
      "cell_type": "code",
      "source": [
        "CHAR_TO_STUCT_DICT = {\"I\": Pauli.I, \"X\": Pauli.X, \"Y\": Pauli.Y, \"Z\": Pauli.Z}\n",
        "\n",
        "\n",
        "def pauli_str_to_enums(pauli):\n",
        "    return [CHAR_TO_STUCT_DICT[s] for s in pauli]\n",
        "\n",
        "\n",
        "def pauli_list_to_hamiltonian(pauli_list):\n",
        "    return [\n",
        "        PauliTerm(\n",
        "            pauli=pauli_str_to_enums(pauli), coefficient=cast(complex, coeff).real\n",
        "        )\n",
        "        for pauli, coeff in pauli_list\n",
        "    ]"
      ],
      "metadata": {
        "id": "9bV8KvY52DOU"
      },
      "execution_count": 134,
      "outputs": []
    },
    {
      "cell_type": "markdown",
      "source": [
        "At this project, we generate the matrix $\\mathbf{A}$ by building the glued trees structure using the NetworkX library such that the nodes are labeled in order from the entrance to exit node and using the `nx.adjacency_matrix` function to generate an adjacency matrix using that ordering. We will decompose $\\mathbf{A}$ using [Cholesky decomposition](https://en.wikipedia.org/wiki/Cholesky_decomposition) to get a square matrix where its product with its conjugate transpose is equal to $\\mathbf{A}$. This matrix is the same size as $\\mathbf{A}$, however, so we must pad it with 4 columns of zeroes to get our matrix $\\mathbf{B}$ of size $N \\times (N+4)$ so $\\mathbf{H}$ has a size corresponding to a power of two. We can then create the block Hamiltonian with the proper size using $\\mathbf{B}$ and $\\mathbf{B}^†$, and generate its full Pauli list using Qiskit's `SparsePauliOp.from_operator` [[3](#SparsePauliOp)] function.\n",
        "\n",
        "All Pauli list outputs are cropped so they have no more than 200 terms. This is to ensure that the circuit depth is at a reasonable range (low thousands) given the limits of current quantum hardware. As a result of this approach, as the number of qubits increases, the accuracy of the Pauli list in comparison to the matrix it represents diminishes so the circuit depth remains roughly constant.\n",
        "\n",
        "The Pauli list representation of $\\mathbf{H}$ for qubit sizes small enough to calculate (13 qubits and lower) are generated and cropped using the `generate_pauli_list` function, which uses an ad hoc approach that tries to represent the Pauli list as a whole as accurately as possible using only the 200 ostensibly most relevant terms to simulating the system.\n",
        "\n",
        "The cropping algorithm, defined in the `crop_pauli_list` function, first selects 120 terms (60%) by going through each character position from the end to the start and picking the Pauli terms with the largest coefficients that contain each of the four possibilities ($I$, $X$, $Y$, $Z$) at that character position. If all positions are exhausted before reaching 120 terms, the algorithm takes another pass through the character positions until 120 are selected. The other 80 terms (40%) are selected by picking the 80 remaining terms with the largest coefficients. The algorithm balances important high-coefficient terms with diversity in the 200 selected terms.\n",
        "\n",
        "The Pauli lists for qubit sizes too large to fully calculate (greater than 13 qubits) are approximated by padding with the second character of the Pauli strings of the largest cropped Pauli list that can be generated in reasonable time, as this follows a pattern present in the vast majority of strings in the cropped Pauli list."
      ],
      "metadata": {
        "id": "GWcAwltI2ZRo"
      }
    },
    {
      "cell_type": "code",
      "source": [
        "def crop_pauli_list(pauli, size):\n",
        "    if len(pauli) <= size:\n",
        "        return pauli\n",
        "    result = []\n",
        "    idx = 0\n",
        "    while len(result) < round(size * 0.6):\n",
        "        for i in range(len(pauli[0][0]) - 1, -1, -1):\n",
        "            for k in pauli:\n",
        "                if k[0][i] == \"IXYZ\"[idx % 4] and k not in result:\n",
        "                    result.append(k)\n",
        "                    break\n",
        "            idx += 1\n",
        "    for i in pauli:\n",
        "        if len(result) >= size:\n",
        "            break\n",
        "        if i not in result:\n",
        "            result.append(i)\n",
        "    return result"
      ],
      "metadata": {
        "id": "TaX907p52jrZ"
      },
      "execution_count": 135,
      "outputs": []
    },
    {
      "cell_type": "code",
      "source": [
        "def generate_pauli_list(qubits):\n",
        "    dim = qubits - 2\n",
        "    T1 = nx.balanced_tree(2, dim - 1)\n",
        "    T2 = nx.relabel_nodes(T1, lambda x: 2 ** (dim + 1) - 3 - x)\n",
        "    T = nx.union(T1, T2)\n",
        "    edges = {i: 0 for i in range(2**dim - 1, 2 ** (dim - 1) + 2**dim - 1)}\n",
        "    for i in range(2 ** (dim - 1) - 1, 2**dim - 1):\n",
        "        nums = [\n",
        "            j for j in range(2**dim - 1, 2 ** (dim - 1) + 2**dim - 1) if edges[j] < 1\n",
        "        ]\n",
        "        if len(nums) == 0:\n",
        "            nums = [\n",
        "                j\n",
        "                for j in range(2**dim - 1, 2 ** (dim - 1) + 2**dim - 1)\n",
        "                if edges[j] < 2\n",
        "            ]\n",
        "        vals = random.sample(nums, k=2)\n",
        "        for j in vals:\n",
        "            edges[j] += 1\n",
        "        T.add_edges_from([(i, vals[0]), (i, vals[1])])\n",
        "    A = 3 * np.identity(2 ** (dim + 1) - 2) - np.array(\n",
        "        nx.adjacency_matrix(T, nodelist=sorted(T.nodes())).todense()\n",
        "    )\n",
        "    B = np.hstack((np.linalg.cholesky(A), np.zeros((2 ** (dim + 1) - 2, 4))))\n",
        "    H = -np.block(\n",
        "        [\n",
        "            [np.zeros((B.shape[0], B.shape[0])), B],\n",
        "            [B.conj().T, np.zeros((B.shape[1], B.shape[1]))],\n",
        "        ]\n",
        "    )\n",
        "    c = SparsePauliOp.from_operator(H)\n",
        "    result = [(str(c.paulis[i]), c.coeffs[i].real) for i in range(len(c))]\n",
        "    return crop_pauli_list(sorted(result, key=lambda x: abs(x[1]), reverse=True), 200)\n"
      ],
      "metadata": {
        "id": "ZPqKHvLP2lb8"
      },
      "execution_count": 136,
      "outputs": []
    },
    {
      "cell_type": "code",
      "source": [
        "def pauli_str(qubits, recalculate=False):\n",
        "    with open(get_path(\"glued_trees_cache.json\"), \"r\") as f:\n",
        "        cache = json.load(f)\n",
        "    if not recalculate and str(qubits) in cache:\n",
        "        return cache[str(qubits)]\n",
        "    if qubits > 13:\n",
        "        return [\n",
        "            (i[0][0] + i[0][1] * (qubits - len(i[0])) + i[0][1:], i[1])\n",
        "            for i in generate_pauli_list(13)\n",
        "        ]\n",
        "    return generate_pauli_list(qubits)"
      ],
      "metadata": {
        "id": "6OQiU8gW2pVT"
      },
      "execution_count": 137,
      "outputs": []
    },
    {
      "cell_type": "markdown",
      "source": [
        "We are now ready to run our main execution function, `run_point`. This function takes in the number of qubits `qubits` and the time `t` to perform Hamiltonian simulation $e^{-it\\mathbf{H}}$ using the `exponentiation_with_depth_constraint` function in the Classiq software development kit.\n",
        "\n",
        "The `max_depth` parameter is set to 1400, which is around the range of the current limit for comprehensible results in state of the art quantum computers. The `num_shots` parameter is set to 8192 to give enough of room for significant spikes in a state to be apparent given the high number of total possible states.\n",
        "\n",
        "The resulting quantum state can be written as follows:\n",
        "$$\n",
        "\\begin{aligned}\n",
        "|\\psi(t)\\rangle &\\propto \\begin{pmatrix}\n",
        "\\dot{\\vec{x}}(t) \\\\\n",
        "i\\mathbf{B}^†\\vec{x}(t)\n",
        "\\end{pmatrix} \\\\\n",
        "\\begin{pmatrix}\n",
        "\\dot{\\vec{x}}(t) \\\\\n",
        "i\\mathbf{B}^†\\vec{x}(t)\n",
        "\\end{pmatrix} &= e^{-it\\mathbf{H}} \\begin{pmatrix}\n",
        "\\dot{\\vec{x}}(0) \\\\\n",
        "i\\mathbf{B}^†\\vec{x}(0)\n",
        "\\end{pmatrix}\n",
        "\\end{aligned}\n",
        "$$\n",
        "where $\\vec{x}(0)=(0,0,\\dots,0)^T$ and $\\dot{\\vec{x}}(0)=(1,0,\\dots,0)^T$ using a linear ordering of nodes.\n",
        "\n",
        "Since the speed of the entrance node oscillator $|\\dot{x}_1(t)|$ is represented by the quantum state $|0\\rangle$ and should have probability 1 at $t=0$, there is no specific state preparation necessary for this system. It should also be noted that since our matrix $\\mathbf{B}^†$ is padded with 4 rows of zeroes, the highest 4 quantum states do not correspond to the displacement or speed of any oscillator. This means that the quantum state representing the speed of the exit node oscillator $|\\dot{x}_N(t)|$, which is what we are most interested in, will correspond to $|N-1\\rangle=|2^{n+1}-3\\rangle$. We will be tracking this particular quantum state at time $t \\approx 2n$ expecting a spike, which represents the system of oscillators \"reaching\" the exit node from the initial push to the entrance node.\n",
        "\n",
        "We will run the `run_point` function through a helper function `run_range`, which executes it 13 times in total for a given qubit size, spanning from $t=2n-12$ to $t=2n+12$ in 2 second intervals. This range gives time to observe oscillation occurring at the state value corresponding to $|\\dot{x}_N(t)|$ while also being close enough around $t=2n$, the time where we are expecting a spike."
      ],
      "metadata": {
        "id": "njWJhjR23QrI"
      }
    },
    {
      "cell_type": "markdown",
      "source": [
        "## SUZUKI TROTER APROXIMATION FOR COUPLED CLASSICAL OSCILLATORS"
      ],
      "metadata": {
        "id": "ceIK8PP_3slo"
      }
    },
    {
      "cell_type": "markdown",
      "source": [
        "We use Classiq function: exponentiation_with_depth_constraint, The exponentiation function produces a quantum gate that approximates the exponentiation,$\\exp(-iHt)$ of any input Hermitian operator, $H$ The Classiq engine automatically generates an efficient higher-order Trotter-Suzuki quantum program [1] that minimizes the functional error and satisfies a given local constraint on the depth. The functional error is measured by the operator norm [4] and evaluated according to Ref.[2]"
      ],
      "metadata": {
        "id": "c-1_fbhU4Acl"
      }
    },
    {
      "cell_type": "markdown",
      "source": [
        "Function: exponentiation_with_depth_constraint\n",
        "\n",
        "Arguments:\n",
        "\n",
        "pauli_operator: CArray[PauliTerm] - the Hamiltonian to exponentiate as described above.\n",
        "\n",
        "evolution_coefficient: CReal - a global evolution coefficient (the parameter\n",
        " above).\n",
        "\n",
        "max_depth: CInt - a maximal depth for the implementation.\n",
        "\n",
        "qbv: QArray[QBit] - the quantum state on which we apply the evolution.\n",
        "\n",
        "\n",
        "\n",
        "\n"
      ],
      "metadata": {
        "id": "_V-GVYm633FG"
      }
    },
    {
      "cell_type": "code",
      "source": [
        "def run_point(qubits, t, pauli_list):\n",
        "    @qfunc\n",
        "    def main(state: Output[QArray[QBit]]) -> None:\n",
        "        allocate(len(pauli_list[0][0]), state)\n",
        "        exponentiation_with_depth_constraint(\n",
        "            pauli_list_to_hamiltonian(pauli_list),\n",
        "            evolution_coefficient=t,\n",
        "            max_depth=1400,\n",
        "            qbv=state,\n",
        "        )\n",
        "\n",
        "    execution_preferences = ExecutionPreferences(num_shots=8192)\n",
        "    model = set_execution_preferences(create_model(main), execution_preferences)\n",
        "    quantum_program = synthesize(model)\n",
        "    job = execute(quantum_program)\n",
        "    filename = (\n",
        "        str(qubits)\n",
        "        + \"-qubits/2n\"\n",
        "        + (\n",
        "            str(t - 2 * qubits + 4)\n",
        "            if t < 2 * qubits - 4\n",
        "            else \"+\" + str(t - 2 * qubits + 4)\n",
        "        )\n",
        "    )\n",
        "    with open(get_path(\"results/\" + filename + \".json\"), \"w\") as f:\n",
        "        json.dump(dict(job.result()[0].value), f)\n",
        "\n",
        "\n",
        "def run_range(qubits, recalculate=False):\n",
        "    pauli_list = pauli_str(qubits, recalculate)\n",
        "    for i in tqdm.tqdm(range(-12, 13, 2)):\n",
        "        run_point(qubits, 2 * qubits - 4 + i, pauli_list)"
      ],
      "metadata": {
        "id": "4lUtmY3E5s8p"
      },
      "execution_count": 138,
      "outputs": []
    },
    {
      "cell_type": "markdown",
      "source": [
        "The following code segment displays the execution of run_range for 10 qubits ( n=8,N=510 ), a higher qubit size that is still simulatable. In addition, it is low enough that its Pauli list can still be fully generated and cropped.\n",
        "\n",
        "This instance of the function should take a few minutes to run. As defined, it will use the cached Pauli list for 10 qubits in glued_trees_cache.json. If you would like to recalculate the Pauli list, ensure that you have uncommented and run the two lines at the top of this notebook and add recalculate=True as the second parameter to the function."
      ],
      "metadata": {
        "id": "TjI597LiJZ5o"
      }
    },
    {
      "cell_type": "code",
      "source": [
        "run_range(10)"
      ],
      "metadata": {
        "id": "BGazSzXBMW1q"
      },
      "execution_count": null,
      "outputs": []
    },
    {
      "cell_type": "code",
      "source": [
        "  0%|          | 0/13 [00:00<?, ?it/s]  8%|▊         | 1/13 [00:08<01:39,  8.26s/it] 15%|█▌        | 2/13 [00:15<01:23,  7.57s/it] 23%|██▎       | 3/13 [00:23<01:18,  7.82s/it] 31%|███       | 4/13 [00:30<01:09,  7.70s/it] 38%|███▊      | 5/13 [00:38<00:59,  7.46s/it] 46%|████▌     | 6/13 [00:45<00:51,  7.34s/it] 54%|█████▍    | 7/13 [00:53<00:45,  7.56s/it] 62%|██████▏   | 8/13 [01:01<00:38,  7.77s/it] 69%|██████▉   | 9/13 [01:09<00:31,  7.81s/it] 77%|███████▋  | 10/13 [01:17<00:23,  7.90s/it] 85%|████████▍ | 11/13 [01:25<00:15,  7.89s/it] 92%|█████████▏| 12/13 [01:32<00:07,  7.60s/it]100%|██████████| 13/13 [01:40<00:00,  7.77s/it]100%|██████████| 13/13 [01:40<00:00,  7.72s/it]\n"
      ],
      "metadata": {
        "id": "cCeq2nt5Lb6A"
      },
      "execution_count": null,
      "outputs": []
    },
    {
      "cell_type": "code",
      "source": [
        "run_range(20)"
      ],
      "metadata": {
        "id": "WYc73zg9Lgx0"
      },
      "execution_count": null,
      "outputs": []
    },
    {
      "cell_type": "code",
      "source": [
        "  0%|          | 0/13 [00:00<?, ?it/s]  8%|▊         | 1/13 [00:12<02:31, 12.64s/it] 15%|█▌        | 2/13 [00:26<02:25, 13.26s/it] 23%|██▎       | 3/13 [00:40<02:17, 13.71s/it] 31%|███       | 4/13 [00:54<02:04, 13.88s/it] 38%|███▊      | 5/13 [01:08<01:51, 13.90s/it] 46%|████▌     | 6/13 [01:22<01:36, 13.85s/it] 54%|█████▍    | 7/13 [01:35<01:21, 13.66s/it] 62%|██████▏   | 8/13 [01:49<01:08, 13.61s/it] 69%|██████▉   | 9/13 [02:02<00:54, 13.60s/it] 77%|███████▋  | 10/13 [02:16<00:40, 13.50s/it] 85%|████████▍ | 11/13 [02:28<00:26, 13.22s/it] 92%|█████████▏| 12/13 [02:41<00:13, 13.19s/it]100%|██████████| 13/13 [02:55<00:00, 13.27s/it]100%|██████████| 13/13 [02:55<00:00, 13.48s/it]\n"
      ],
      "metadata": {
        "id": "zP-aV1k8LyLs"
      },
      "execution_count": null,
      "outputs": []
    },
    {
      "cell_type": "markdown",
      "source": [
        "We can now graph the results we have generated using the simulator, which have been saved into directories in the `results` folder based on their qubit size. The `graph_results` function creates a plot of the proportion of shots for the qubit state $|N-1\\rangle$ corresponding to $|\\dot{x}_N(t)|$ for a given qubit size from $t=2n-12$ to $t=2n+12$ and saves it in the `figures` folder."
      ],
      "metadata": {
        "id": "xoEiyAMnMXTI"
      }
    },
    {
      "cell_type": "code",
      "source": [
        "def graph_results(qubits):\n",
        "    states = [(str(i) if i < 0 else \"+\" + str(i)) for i in range(-12, 13, 2)]\n",
        "    times = [2 * qubits - 4 + int(i) for i in states]\n",
        "    data = []\n",
        "    for i in states:\n",
        "        with open(\n",
        "            get_path(\"results/\" + str(qubits) + \"-qubits\" + \"/2n\" + i + \".json\"), \"r\"\n",
        "        ) as f:\n",
        "            j = json.load(f)\n",
        "            key = str(\"0\" + bin(2 ** (qubits - 1) - 3)[2:])\n",
        "            data.append(j[\"counts\"][key] / j[\"num_shots\"] if key in j[\"counts\"] else 0)\n",
        "    plt.plot(times, data)\n",
        "    plt.xlabel(\"Time (s)\")\n",
        "    plt.ylabel(\"Proportion of |\" + str(2 ** (qubits - 1) - 3) + \"> shots\")\n",
        "    plt.title(\n",
        "        r\"Glued Trees System at $t \\approx 2n$ for \"\n",
        "        + str(qubits)\n",
        "        + r\" Qubits ($n=\"\n",
        "        + str(qubits - 2)\n",
        "        + r\"$)\"\n",
        "    )\n",
        "    plt.savefig(\n",
        "        get_path(\"figures/\" + str(qubits) + \"_qubits.png\"), bbox_inches=\"tight\", dpi=300\n",
        "    )\n",
        "    plt.show()"
      ],
      "metadata": {
        "id": "b1JbvdyKO_41"
      },
      "execution_count": 139,
      "outputs": []
    },
    {
      "cell_type": "code",
      "source": [
        "graph_results(10)"
      ],
      "metadata": {
        "id": "KRm8bB6RPFLa"
      },
      "execution_count": null,
      "outputs": []
    },
    {
      "cell_type": "code",
      "source": [
        "graph_results(20)"
      ],
      "metadata": {
        "id": "kvUrrjb2PF3b"
      },
      "execution_count": null,
      "outputs": []
    },
    {
      "cell_type": "markdown",
      "source": [
        "## QUBITIZATION APROXIMATION FOR COUPLED CLASSICAL OSCILLATORS"
      ],
      "metadata": {
        "id": "HSESpD1lPL3M"
      }
    },
    {
      "cell_type": "code",
      "source": [
        "HAMILTONIAN = pauli_list_to_hamiltonian(pauli_list)"
      ],
      "metadata": {
        "colab": {
          "base_uri": "https://localhost:8080/",
          "height": 141
        },
        "id": "J9KTAjS5QpNq",
        "outputId": "d1cb6e5d-9f04-4def-b053-9574d0213316"
      },
      "execution_count": 140,
      "outputs": [
        {
          "output_type": "error",
          "ename": "NameError",
          "evalue": "name 'pauli_list' is not defined",
          "traceback": [
            "\u001b[0;31m---------------------------------------------------------------------------\u001b[0m",
            "\u001b[0;31mNameError\u001b[0m                                 Traceback (most recent call last)",
            "\u001b[0;32m<ipython-input-140-0ee9c66b55d6>\u001b[0m in \u001b[0;36m<cell line: 1>\u001b[0;34m()\u001b[0m\n\u001b[0;32m----> 1\u001b[0;31m \u001b[0mHAMILTONIAN\u001b[0m \u001b[0;34m=\u001b[0m \u001b[0mpauli_list_to_hamiltonian\u001b[0m\u001b[0;34m(\u001b[0m\u001b[0mpauli_list\u001b[0m\u001b[0;34m)\u001b[0m\u001b[0;34m\u001b[0m\u001b[0;34m\u001b[0m\u001b[0m\n\u001b[0m",
            "\u001b[0;31mNameError\u001b[0m: name 'pauli_list' is not defined"
          ]
        }
      ]
    },
    {
      "cell_type": "markdown",
      "source": [
        "###REFERENCES\n",
        "\n",
        "[1] Babbush, Ryan and Berry, Dominic W. and Kothari, Robin and Somma, Rolando D. and Wiebe, Nathan. \"Exponential Quantum Speedup in Simulating Coupled Classical Oscillators.\" Phys. Rev. X 13, 041041 (2023)\n",
        "\n",
        "[2]Andrew M Childs, Richard Cleve, Enrico Deotto, Edward Farhi, Sam Gutmann, and Daniel A Spielman,\n",
        "“Exponential algorithmic speedup by a quantum walk,” in Proceedings of the thirty-fifth annual ACM symposium\n",
        "on Theory of computing (2003) pp. 59–68.\n",
        "\n",
        "[3]https://docs.quantum.ibm.com/api/qiskit/qiskit.quantum_info.SparsePauliOp\n",
        "\n",
        "[4] https://en.wikipedia.org/wiki/Operator_norm"
      ],
      "metadata": {
        "id": "kdNSOQC1yC6x"
      }
    },
    {
      "cell_type": "code",
      "source": [],
      "metadata": {
        "id": "-waWsei3LgWG"
      },
      "execution_count": null,
      "outputs": []
    },
    {
      "cell_type": "code",
      "source": [],
      "metadata": {
        "id": "AmEuEGL-2YzJ"
      },
      "execution_count": null,
      "outputs": []
    }
  ]
}